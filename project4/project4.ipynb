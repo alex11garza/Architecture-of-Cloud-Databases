{
 "cells": [
  {
   "cell_type": "markdown",
   "metadata": {},
   "source": [
    "### Starter code for Project 4. \n",
    "#### Run these cells before starting the assignment. "
   ]
  },
  {
   "cell_type": "markdown",
   "metadata": {},
   "source": [
    "#### 1. create BQ dataset:"
   ]
  },
  {
   "cell_type": "code",
   "execution_count": 1,
   "metadata": {},
   "outputs": [
    {
     "name": "stdout",
     "output_type": "stream",
     "text": [
      "env: dataset_id=school_enrollments\n"
     ]
    }
   ],
   "source": [
    "%env dataset_id=school_enrollments"
   ]
  },
  {
   "cell_type": "code",
   "execution_count": 2,
   "metadata": {},
   "outputs": [
    {
     "name": "stdout",
     "output_type": "stream",
     "text": [
      "BigQuery error in mk operation: Dataset 'fine-entry-397522:school_enrollments'\n",
      "already exists.\n"
     ]
    }
   ],
   "source": [
    "!bq --location=US mk --dataset $dataset_id"
   ]
  },
  {
   "cell_type": "markdown",
   "metadata": {},
   "source": [
    "#### 2. create and populate BQ tables:"
   ]
  },
  {
   "cell_type": "code",
   "execution_count": 3,
   "metadata": {},
   "outputs": [],
   "source": [
    "import os"
   ]
  },
  {
   "cell_type": "code",
   "execution_count": 4,
   "metadata": {},
   "outputs": [
    {
     "name": "stdout",
     "output_type": "stream",
     "text": [
      "bq --location=US load --autodetect --skip_leading_rows=1 --source_format=CSV school_enrollments.ak gs://cs327e-open-access/stanford-school-enrollment/zf406jp4427_ak.csv\n",
      "\n"
     ]
    },
    {
     "name": "stderr",
     "output_type": "stream",
     "text": [
      "Waiting on bqjob_r601bc3bb6c98a9a6_0000018ae3ba2e28_1 ... (2s) Current status: DONE   \n"
     ]
    },
    {
     "name": "stdout",
     "output_type": "stream",
     "text": [
      "bq --location=US load --autodetect --skip_leading_rows=1 --source_format=CSV school_enrollments.ar gs://cs327e-open-access/stanford-school-enrollment/zf406jp4427_ar.csv\n",
      "\n"
     ]
    },
    {
     "name": "stderr",
     "output_type": "stream",
     "text": [
      "Waiting on bqjob_r367ed05fe0f3ebfb_0000018ae3ba40c3_1 ... (5s) Current status: DONE   \n"
     ]
    },
    {
     "name": "stdout",
     "output_type": "stream",
     "text": [
      "bq --location=US load --autodetect --skip_leading_rows=1 --source_format=CSV school_enrollments.az gs://cs327e-open-access/stanford-school-enrollment/zf406jp4427_az.csv\n",
      "\n"
     ]
    },
    {
     "name": "stderr",
     "output_type": "stream",
     "text": [
      "Waiting on bqjob_r6102ab53b8dd7482_0000018ae3ba6052_1 ... (5s) Current status: DONE   \n"
     ]
    },
    {
     "name": "stdout",
     "output_type": "stream",
     "text": [
      "bq --location=US load --autodetect --skip_leading_rows=1 --source_format=CSV school_enrollments.ca gs://cs327e-open-access/stanford-school-enrollment/zf406jp4427_ca.csv\n",
      "\n"
     ]
    },
    {
     "name": "stderr",
     "output_type": "stream",
     "text": [
      "Waiting on bqjob_r6e4da2ca9c0c5596_0000018ae3ba7fee_1 ... (9s) Current status: DONE   \n"
     ]
    },
    {
     "name": "stdout",
     "output_type": "stream",
     "text": [
      "skipping co\n",
      "bq --location=US load --autodetect --skip_leading_rows=1 --source_format=CSV school_enrollments.ct gs://cs327e-open-access/stanford-school-enrollment/zf406jp4427_ct.csv\n",
      "\n"
     ]
    },
    {
     "name": "stderr",
     "output_type": "stream",
     "text": [
      "Waiting on bqjob_r649df99a20ee2b10_0000018ae3baafb1_1 ... (3s) Current status: DONE   \n"
     ]
    },
    {
     "name": "stdout",
     "output_type": "stream",
     "text": [
      "skipping district\n",
      "skipping fl\n",
      "skipping ga\n",
      "bq --location=US load --autodetect --skip_leading_rows=1 --source_format=CSV school_enrollments.hi gs://cs327e-open-access/stanford-school-enrollment/zf406jp4427_hi.csv\n",
      "\n"
     ]
    },
    {
     "name": "stderr",
     "output_type": "stream",
     "text": [
      "Waiting on bqjob_r4c26e46d91a2a029_0000018ae3bac6bd_1 ... (2s) Current status: DONE   \n"
     ]
    },
    {
     "name": "stdout",
     "output_type": "stream",
     "text": [
      "skipping id\n",
      "bq --location=US load --autodetect --skip_leading_rows=1 --source_format=CSV school_enrollments.in gs://cs327e-open-access/stanford-school-enrollment/zf406jp4427_in.csv\n",
      "\n"
     ]
    },
    {
     "name": "stderr",
     "output_type": "stream",
     "text": [
      "Waiting on bqjob_r3c337a538338a2c4_0000018ae3bad958_1 ... (4s) Current status: DONE   \n"
     ]
    },
    {
     "name": "stdout",
     "output_type": "stream",
     "text": [
      "bq --location=US load --autodetect --skip_leading_rows=1 --source_format=CSV school_enrollments.la gs://cs327e-open-access/stanford-school-enrollment/zf406jp4427_la.csv\n",
      "\n"
     ]
    },
    {
     "name": "stderr",
     "output_type": "stream",
     "text": [
      "Waiting on bqjob_r5bb1c1a00dd6fabb_0000018ae3baf473_1 ... (3s) Current status: DONE   \n"
     ]
    },
    {
     "name": "stdout",
     "output_type": "stream",
     "text": [
      "skipping ma\n",
      "bq --location=US load --autodetect --skip_leading_rows=1 --source_format=CSV school_enrollments.md gs://cs327e-open-access/stanford-school-enrollment/zf406jp4427_md.csv\n",
      "\n"
     ]
    },
    {
     "name": "stderr",
     "output_type": "stream",
     "text": [
      "Waiting on bqjob_r270c698f1233352a_0000018ae3bb0b88_1 ... (2s) Current status: DONE   \n"
     ]
    },
    {
     "name": "stdout",
     "output_type": "stream",
     "text": [
      "bq --location=US load --autodetect --skip_leading_rows=1 --source_format=CSV school_enrollments.mn gs://cs327e-open-access/stanford-school-enrollment/zf406jp4427_mn.csv\n",
      "\n"
     ]
    },
    {
     "name": "stderr",
     "output_type": "stream",
     "text": [
      "Waiting on bqjob_r67e3723c6e7b01a9_0000018ae3bb1e67_1 ... (5s) Current status: DONE   \n"
     ]
    },
    {
     "name": "stdout",
     "output_type": "stream",
     "text": [
      "skipping mo\n",
      "bq --location=US load --autodetect --skip_leading_rows=1 --source_format=CSV school_enrollments.ms gs://cs327e-open-access/stanford-school-enrollment/zf406jp4427_ms.csv\n",
      "\n"
     ]
    },
    {
     "name": "stderr",
     "output_type": "stream",
     "text": [
      "Waiting on bqjob_r7984f72ee2be578_0000018ae3bb3dd9_1 ... (2s) Current status: DONE   \n"
     ]
    },
    {
     "name": "stdout",
     "output_type": "stream",
     "text": [
      "skipping ne\n",
      "bq --location=US load --autodetect --skip_leading_rows=1 --source_format=CSV school_enrollments.nh gs://cs327e-open-access/stanford-school-enrollment/zf406jp4427_nh.csv\n",
      "\n"
     ]
    },
    {
     "name": "stderr",
     "output_type": "stream",
     "text": [
      "Waiting on bqjob_r7b77859c050026af_0000018ae3bb5059_1 ... (2s) Current status: DONE   \n"
     ]
    },
    {
     "name": "stdout",
     "output_type": "stream",
     "text": [
      "bq --location=US load --autodetect --skip_leading_rows=1 --source_format=CSV school_enrollments.nj gs://cs327e-open-access/stanford-school-enrollment/zf406jp4427_nj.csv\n",
      "\n"
     ]
    },
    {
     "name": "stderr",
     "output_type": "stream",
     "text": [
      "Waiting on bqjob_r3664ba72fae7eab2_0000018ae3bb638b_1 ... (1s) Current status: DONE   \n"
     ]
    },
    {
     "name": "stdout",
     "output_type": "stream",
     "text": [
      "BigQuery error in load operation: Error processing job 'fine-\n",
      "entry-397522:bqjob_r3664ba72fae7eab2_0000018ae3bb638b_1': Error while reading\n",
      "data, error message: Could not parse 'N' as INT64 for field\n",
      "ccd_district_high_grade (position 12) starting at location 2800632  with message\n",
      "'Unable to parse' File: gs://cs327e-open-access/stanford-school-\n",
      "enrollment/zf406jp4427_nj.csv\n",
      "Failure details:\n",
      "- Error while reading data, error message: CSV processing encountered\n",
      "too many errors, giving up. Rows: 12208; errors: 1; max bad: 0;\n",
      "error percent: 0\n",
      "bq --location=US load --autodetect --skip_leading_rows=1 --source_format=CSV school_enrollments.nm gs://cs327e-open-access/stanford-school-enrollment/zf406jp4427_nm.csv\n",
      "\n"
     ]
    },
    {
     "name": "stderr",
     "output_type": "stream",
     "text": [
      "Waiting on bqjob_r3f1dc1a4268e8632_0000018ae3bb726d_1 ... (2s) Current status: DONE   \n"
     ]
    },
    {
     "name": "stdout",
     "output_type": "stream",
     "text": [
      "bq --location=US load --autodetect --skip_leading_rows=1 --source_format=CSV school_enrollments.nv gs://cs327e-open-access/stanford-school-enrollment/zf406jp4427_nv.csv\n",
      "\n"
     ]
    },
    {
     "name": "stderr",
     "output_type": "stream",
     "text": [
      "Waiting on bqjob_r4bd58e672ab281f6_0000018ae3bb850a_1 ... (5s) Current status: DONE   \n"
     ]
    },
    {
     "name": "stdout",
     "output_type": "stream",
     "text": [
      "skipping ny\n",
      "bq --location=US load --autodetect --skip_leading_rows=1 --source_format=CSV school_enrollments.ok gs://cs327e-open-access/stanford-school-enrollment/zf406jp4427_ok.csv\n",
      "\n"
     ]
    },
    {
     "name": "stderr",
     "output_type": "stream",
     "text": [
      "Waiting on bqjob_r5b422107f580fd9b_0000018ae3bba45c_1 ... (3s) Current status: DONE   \n"
     ]
    },
    {
     "name": "stdout",
     "output_type": "stream",
     "text": [
      "skipping or\n",
      "bq --location=US load --autodetect --skip_leading_rows=1 --source_format=CSV school_enrollments.pa gs://cs327e-open-access/stanford-school-enrollment/zf406jp4427_pa.csv\n",
      "\n"
     ]
    },
    {
     "name": "stderr",
     "output_type": "stream",
     "text": [
      "Waiting on bqjob_r1085b0896ac6f7dc_0000018ae3bbbb58_1 ... (5s) Current status: DONE   \n"
     ]
    },
    {
     "name": "stdout",
     "output_type": "stream",
     "text": [
      "bq --location=US load --autodetect --skip_leading_rows=1 --source_format=CSV school_enrollments.sc gs://cs327e-open-access/stanford-school-enrollment/zf406jp4427_sc.csv\n",
      "\n"
     ]
    },
    {
     "name": "stderr",
     "output_type": "stream",
     "text": [
      "Waiting on bqjob_r4ae393b4f41452ef_0000018ae3bbda6c_1 ... (3s) Current status: DONE   \n"
     ]
    },
    {
     "name": "stdout",
     "output_type": "stream",
     "text": [
      "skipping school\n",
      "skipping sd\n",
      "bq --location=US load --autodetect --skip_leading_rows=1 --source_format=CSV school_enrollments.tx gs://cs327e-open-access/stanford-school-enrollment/zf406jp4427_tx.csv\n",
      "\n"
     ]
    },
    {
     "name": "stderr",
     "output_type": "stream",
     "text": [
      "Waiting on bqjob_r70b56bf8fd4be632_0000018ae3bbf11c_1 ... (5s) Current status: DONE   \n"
     ]
    },
    {
     "name": "stdout",
     "output_type": "stream",
     "text": [
      "bq --location=US load --autodetect --skip_leading_rows=1 --source_format=CSV school_enrollments.ut gs://cs327e-open-access/stanford-school-enrollment/zf406jp4427_ut.csv\n",
      "\n"
     ]
    },
    {
     "name": "stderr",
     "output_type": "stream",
     "text": [
      "Waiting on bqjob_r573128a008ec45f0_0000018ae3bc0ff3_1 ... (2s) Current status: DONE   \n"
     ]
    },
    {
     "name": "stdout",
     "output_type": "stream",
     "text": [
      "bq --location=US load --autodetect --skip_leading_rows=1 --source_format=CSV school_enrollments.wa gs://cs327e-open-access/stanford-school-enrollment/zf406jp4427_wa.csv\n",
      "\n"
     ]
    },
    {
     "name": "stderr",
     "output_type": "stream",
     "text": [
      "Waiting on bqjob_r4f4e33ee21fab0a2_0000018ae3bc22e8_1 ... (5s) Current status: DONE   \n"
     ]
    },
    {
     "name": "stdout",
     "output_type": "stream",
     "text": [
      "skipping wi\n",
      "bq --location=US load --autodetect --skip_leading_rows=1 --source_format=CSV school_enrollments.wy gs://cs327e-open-access/stanford-school-enrollment/zf406jp4427_wy.csv\n",
      "\n"
     ]
    },
    {
     "name": "stderr",
     "output_type": "stream",
     "text": [
      "Waiting on bqjob_r3602dc1d98052646_0000018ae3bc41d7_1 ... (2s) Current status: DONE   \n"
     ]
    }
   ],
   "source": [
    "gsutil_cmd = \"gsutil ls gs://cs327e-open-access/stanford-school-enrollment/*\"\n",
    "file_listings = os.popen(gsutil_cmd)\n",
    "dataset=\"school_enrollments\"\n",
    "\n",
    "for file in file_listings:\n",
    "\n",
    "    start_index = file.rindex(\"_\") + 1\n",
    "    end_index = file.rindex(\".\")\n",
    "    table = file[start_index:end_index]\n",
    "    \n",
    "    if table in (\"co\", \"district\", \"fl\", \"ga\", \"id\", \"ma\", \"mo\", \"ne\", \"ny\", \"or\", \"school\", \"sd\", \"wi\"):\n",
    "        print(\"skipping \" + table)\n",
    "        continue\n",
    "\n",
    "    bq_cmd = \"bq --location=US load --autodetect --skip_leading_rows=1 \"\\\n",
    "             \"--source_format=CSV \" + dataset + \".\" + table + ' ' + file\n",
    "    print(bq_cmd)\n",
    "    \n",
    "    os.system(bq_cmd)"
   ]
  },
  {
   "cell_type": "markdown",
   "metadata": {},
   "source": [
    "#### 3. Find school enrollments by school name, grade level, and year for Texas "
   ]
  },
  {
   "cell_type": "code",
   "execution_count": 5,
   "metadata": {},
   "outputs": [
    {
     "name": "stdout",
     "output_type": "stream",
     "text": [
      "[{\"name\":\"state\",\"type\":\"STRING\",\"mode\":\"NULLABLE\"},{\"name\":\"county\",\"type\":\"STRING\",\"mode\":\"NULLABLE\"},{\"name\":\"county_state_id\",\"type\":\"STRING\",\"mode\":\"NULLABLE\"},{\"name\":\"admin_level\",\"type\":\"STRING\",\"mode\":\"NULLABLE\"},{\"name\":\"district_nces_id\",\"type\":\"INTEGER\",\"mode\":\"NULLABLE\"},{\"name\":\"district_state_id\",\"type\":\"INTEGER\",\"mode\":\"NULLABLE\"},{\"name\":\"district_state_type\",\"type\":\"STRING\",\"mode\":\"NULLABLE\"},{\"name\":\"district\",\"type\":\"STRING\",\"mode\":\"NULLABLE\"},{\"name\":\"ccd_district_type\",\"type\":\"STRING\",\"mode\":\"NULLABLE\"},{\"name\":\"ccd_charter\",\"type\":\"STRING\",\"mode\":\"NULLABLE\"},{\"name\":\"ccd_district_lvl\",\"type\":\"STRING\",\"mode\":\"NULLABLE\"},{\"name\":\"ccd_district_low_grade\",\"type\":\"STRING\",\"mode\":\"NULLABLE\"},{\"name\":\"ccd_district_high_grade\",\"type\":\"STRING\",\"mode\":\"NULLABLE\"},{\"name\":\"school_nces_id\",\"type\":\"INTEGER\",\"mode\":\"NULLABLE\"},{\"name\":\"school_state_id\",\"type\":\"FLOAT\",\"mode\":\"NULLABLE\"},{\"name\":\"school\",\"type\":\"STRING\",\"mode\":\"NULLABLE\"},{\"name\":\"school_state_type\",\"type\":\"STRING\",\"mode\":\"NULLABLE\"},{\"name\":\"ccd_school_type\",\"type\":\"STRING\",\"mode\":\"NULLABLE\"},{\"name\":\"ccd_charter_school\",\"type\":\"BOOLEAN\",\"mode\":\"NULLABLE\"},{\"name\":\"ccd_school_lvl\",\"type\":\"STRING\",\"mode\":\"NULLABLE\"},{\"name\":\"ccd_school_low_grade\",\"type\":\"STRING\",\"mode\":\"NULLABLE\"},{\"name\":\"ccd_school_high_grade\",\"type\":\"STRING\",\"mode\":\"NULLABLE\"},{\"name\":\"year\",\"type\":\"INTEGER\",\"mode\":\"NULLABLE\"},{\"name\":\"term\",\"type\":\"STRING\",\"mode\":\"NULLABLE\"},{\"name\":\"grade\",\"type\":\"STRING\",\"mode\":\"NULLABLE\"},{\"name\":\"white\",\"type\":\"STRING\",\"mode\":\"NULLABLE\"},{\"name\":\"black\",\"type\":\"STRING\",\"mode\":\"NULLABLE\"},{\"name\":\"hispanic\",\"type\":\"STRING\",\"mode\":\"NULLABLE\"},{\"name\":\"native_american\",\"type\":\"STRING\",\"mode\":\"NULLABLE\"},{\"name\":\"native_american_alaskan_native\",\"type\":\"STRING\",\"mode\":\"NULLABLE\"},{\"name\":\"asian\",\"type\":\"STRING\",\"mode\":\"NULLABLE\"},{\"name\":\"native_hawaiian\",\"type\":\"STRING\",\"mode\":\"NULLABLE\"},{\"name\":\"asian_pacific_islander\",\"type\":\"STRING\",\"mode\":\"NULLABLE\"},{\"name\":\"native_hawaiian_pacific_islander\",\"type\":\"STRING\",\"mode\":\"NULLABLE\"},{\"name\":\"pacific_islander\",\"type\":\"STRING\",\"mode\":\"NULLABLE\"},{\"name\":\"multiracial\",\"type\":\"STRING\",\"mode\":\"NULLABLE\"},{\"name\":\"unknown_race\",\"type\":\"STRING\",\"mode\":\"NULLABLE\"},{\"name\":\"male\",\"type\":\"STRING\",\"mode\":\"NULLABLE\"},{\"name\":\"female\",\"type\":\"STRING\",\"mode\":\"NULLABLE\"},{\"name\":\"non_binary\",\"type\":\"STRING\",\"mode\":\"NULLABLE\"},{\"name\":\"unknown_gender\",\"type\":\"STRING\",\"mode\":\"NULLABLE\"},{\"name\":\"ell\",\"type\":\"STRING\",\"mode\":\"NULLABLE\"},{\"name\":\"ell_percent\",\"type\":\"STRING\",\"mode\":\"NULLABLE\"},{\"name\":\"homeless\",\"type\":\"STRING\",\"mode\":\"NULLABLE\"},{\"name\":\"homeless_percent\",\"type\":\"STRING\",\"mode\":\"NULLABLE\"},{\"name\":\"low_income\",\"type\":\"STRING\",\"mode\":\"NULLABLE\"},{\"name\":\"free_and_reduced\",\"type\":\"STRING\",\"mode\":\"NULLABLE\"},{\"name\":\"free_and_reduced_percent\",\"type\":\"STRING\",\"mode\":\"NULLABLE\"},{\"name\":\"disability\",\"type\":\"STRING\",\"mode\":\"NULLABLE\"},{\"name\":\"section_504\",\"type\":\"STRING\",\"mode\":\"NULLABLE\"},{\"name\":\"total\",\"type\":\"STRING\",\"mode\":\"NULLABLE\"}]\n"
     ]
    }
   ],
   "source": [
    "!bq show --schema=true $dataset_id.tx"
   ]
  },
  {
   "cell_type": "markdown",
   "metadata": {},
   "source": [
    "#### Note: STRING type for \"total\" column"
   ]
  },
  {
   "cell_type": "code",
   "execution_count": 6,
   "metadata": {},
   "outputs": [
    {
     "data": {
      "application/vnd.jupyter.widget-view+json": {
       "model_id": "6be1f0a696c343389146edbe06dcc2c5",
       "version_major": 2,
       "version_minor": 0
      },
      "text/plain": [
       "Query is running:   0%|          |"
      ]
     },
     "metadata": {},
     "output_type": "display_data"
    },
    {
     "data": {
      "application/vnd.jupyter.widget-view+json": {
       "model_id": "a105fa095e3b4b28a50eba48d51e1fa6",
       "version_major": 2,
       "version_minor": 0
      },
      "text/plain": [
       "Downloading:   0%|          |"
      ]
     },
     "metadata": {},
     "output_type": "display_data"
    },
    {
     "data": {
      "text/html": [
       "<div>\n",
       "<style scoped>\n",
       "    .dataframe tbody tr th:only-of-type {\n",
       "        vertical-align: middle;\n",
       "    }\n",
       "\n",
       "    .dataframe tbody tr th {\n",
       "        vertical-align: top;\n",
       "    }\n",
       "\n",
       "    .dataframe thead th {\n",
       "        text-align: right;\n",
       "    }\n",
       "</style>\n",
       "<table border=\"1\" class=\"dataframe\">\n",
       "  <thead>\n",
       "    <tr style=\"text-align: right;\">\n",
       "      <th></th>\n",
       "      <th>school</th>\n",
       "      <th>grade</th>\n",
       "      <th>year</th>\n",
       "      <th>total</th>\n",
       "    </tr>\n",
       "  </thead>\n",
       "  <tbody>\n",
       "    <tr>\n",
       "      <th>0</th>\n",
       "      <td>AKINS H S</td>\n",
       "      <td>grade_10</td>\n",
       "      <td>2020</td>\n",
       "      <td>7920</td>\n",
       "    </tr>\n",
       "    <tr>\n",
       "      <th>1</th>\n",
       "      <td>AKINS H S</td>\n",
       "      <td>grade_10</td>\n",
       "      <td>2021</td>\n",
       "      <td>8217</td>\n",
       "    </tr>\n",
       "    <tr>\n",
       "      <th>2</th>\n",
       "      <td>AKINS H S</td>\n",
       "      <td>grade_11</td>\n",
       "      <td>2020</td>\n",
       "      <td>7304</td>\n",
       "    </tr>\n",
       "    <tr>\n",
       "      <th>3</th>\n",
       "      <td>AKINS H S</td>\n",
       "      <td>grade_11</td>\n",
       "      <td>2021</td>\n",
       "      <td>7293</td>\n",
       "    </tr>\n",
       "    <tr>\n",
       "      <th>4</th>\n",
       "      <td>AKINS H S</td>\n",
       "      <td>grade_12</td>\n",
       "      <td>2020</td>\n",
       "      <td>6699</td>\n",
       "    </tr>\n",
       "    <tr>\n",
       "      <th>...</th>\n",
       "      <td>...</td>\n",
       "      <td>...</td>\n",
       "      <td>...</td>\n",
       "      <td>...</td>\n",
       "    </tr>\n",
       "    <tr>\n",
       "      <th>1734</th>\n",
       "      <td>ZILKER EL</td>\n",
       "      <td>grade_5</td>\n",
       "      <td>2021</td>\n",
       "      <td>759</td>\n",
       "    </tr>\n",
       "    <tr>\n",
       "      <th>1735</th>\n",
       "      <td>ZILKER EL</td>\n",
       "      <td>kindergarten</td>\n",
       "      <td>2020</td>\n",
       "      <td>847</td>\n",
       "    </tr>\n",
       "    <tr>\n",
       "      <th>1736</th>\n",
       "      <td>ZILKER EL</td>\n",
       "      <td>kindergarten</td>\n",
       "      <td>2021</td>\n",
       "      <td>693</td>\n",
       "    </tr>\n",
       "    <tr>\n",
       "      <th>1737</th>\n",
       "      <td>ZILKER EL</td>\n",
       "      <td>pre_kindergarten</td>\n",
       "      <td>2020</td>\n",
       "      <td>330</td>\n",
       "    </tr>\n",
       "    <tr>\n",
       "      <th>1738</th>\n",
       "      <td>ZILKER EL</td>\n",
       "      <td>pre_kindergarten</td>\n",
       "      <td>2021</td>\n",
       "      <td>143</td>\n",
       "    </tr>\n",
       "  </tbody>\n",
       "</table>\n",
       "<p>1739 rows × 4 columns</p>\n",
       "</div>"
      ],
      "text/plain": [
       "         school             grade  year  total\n",
       "0     AKINS H S          grade_10  2020   7920\n",
       "1     AKINS H S          grade_10  2021   8217\n",
       "2     AKINS H S          grade_11  2020   7304\n",
       "3     AKINS H S          grade_11  2021   7293\n",
       "4     AKINS H S          grade_12  2020   6699\n",
       "...         ...               ...   ...    ...\n",
       "1734  ZILKER EL           grade_5  2021    759\n",
       "1735  ZILKER EL      kindergarten  2020    847\n",
       "1736  ZILKER EL      kindergarten  2021    693\n",
       "1737  ZILKER EL  pre_kindergarten  2020    330\n",
       "1738  ZILKER EL  pre_kindergarten  2021    143\n",
       "\n",
       "[1739 rows x 4 columns]"
      ]
     },
     "execution_count": 6,
     "metadata": {},
     "output_type": "execute_result"
    }
   ],
   "source": [
    "%%bigquery\n",
    "select school, grade, year, sum(cast(replace(replace(total, \",\", \"\"), \"<\", \"\") as int64)) as total\n",
    "from school_enrollments.tx\n",
    "where total != \"\" and school != \"\" and district like '%AUSTIN%'\n",
    "group by school, grade, year\n",
    "order by school, grade, year"
   ]
  },
  {
   "cell_type": "markdown",
   "metadata": {},
   "source": [
    "##### Documentation on BQ's string functions: https://cloud.google.com/bigquery/docs/reference/standard-sql/string_functions"
   ]
  },
  {
   "cell_type": "code",
   "execution_count": 7,
   "metadata": {},
   "outputs": [
    {
     "name": "stdout",
     "output_type": "stream",
     "text": [
      "BigQuery error in mk operation: Dataset 'fine-entry-397522:views' already\n",
      "exists.\n"
     ]
    }
   ],
   "source": [
    "!bq --location=US mk --dataset \"views\""
   ]
  },
  {
   "cell_type": "code",
   "execution_count": 8,
   "metadata": {},
   "outputs": [
    {
     "name": "stdout",
     "output_type": "stream",
     "text": [
      "Executing query with job ID: d86d5036-c048-4bcc-b04c-4613b09d898b\n",
      "Query executing: 0.30s"
     ]
    },
    {
     "name": "stderr",
     "output_type": "stream",
     "text": [
      "\n",
      "ERROR:\n",
      " 409 Already Exists: Table fine-entry-397522:views.austin_enrollments_by_school_grade_year\n",
      "\n",
      "Location: US\n",
      "Job ID: d86d5036-c048-4bcc-b04c-4613b09d898b\n",
      "\n"
     ]
    }
   ],
   "source": [
    "%%bigquery\n",
    "create view views.austin_enrollments_by_school_grade_year as\n",
    "select school, grade, year, sum(cast(replace(replace(total, \",\", \"\"), \"<\", \"\") as int64)) as total\n",
    "from school_enrollments.tx\n",
    "where total != \"\" and school != \"\" and district like '%AUSTIN%'\n",
    "group by school, grade, year\n",
    "order by school, grade, year"
   ]
  },
  {
   "cell_type": "code",
   "execution_count": 9,
   "metadata": {},
   "outputs": [
    {
     "data": {
      "application/vnd.jupyter.widget-view+json": {
       "model_id": "f406970e4f524a19b619deeed04e3802",
       "version_major": 2,
       "version_minor": 0
      },
      "text/plain": [
       "Query is running:   0%|          |"
      ]
     },
     "metadata": {},
     "output_type": "display_data"
    },
    {
     "data": {
      "application/vnd.jupyter.widget-view+json": {
       "model_id": "be917f3f65d34b0988566032b5b02ee1",
       "version_major": 2,
       "version_minor": 0
      },
      "text/plain": [
       "Downloading:   0%|          |"
      ]
     },
     "metadata": {},
     "output_type": "display_data"
    },
    {
     "data": {
      "text/html": [
       "<div>\n",
       "<style scoped>\n",
       "    .dataframe tbody tr th:only-of-type {\n",
       "        vertical-align: middle;\n",
       "    }\n",
       "\n",
       "    .dataframe tbody tr th {\n",
       "        vertical-align: top;\n",
       "    }\n",
       "\n",
       "    .dataframe thead th {\n",
       "        text-align: right;\n",
       "    }\n",
       "</style>\n",
       "<table border=\"1\" class=\"dataframe\">\n",
       "  <thead>\n",
       "    <tr style=\"text-align: right;\">\n",
       "      <th></th>\n",
       "      <th>school</th>\n",
       "      <th>grade</th>\n",
       "      <th>year</th>\n",
       "      <th>total</th>\n",
       "    </tr>\n",
       "  </thead>\n",
       "  <tbody>\n",
       "    <tr>\n",
       "      <th>0</th>\n",
       "      <td>AKINS H S</td>\n",
       "      <td>grade_10</td>\n",
       "      <td>2020</td>\n",
       "      <td>7920</td>\n",
       "    </tr>\n",
       "    <tr>\n",
       "      <th>1</th>\n",
       "      <td>AKINS H S</td>\n",
       "      <td>grade_10</td>\n",
       "      <td>2021</td>\n",
       "      <td>8217</td>\n",
       "    </tr>\n",
       "    <tr>\n",
       "      <th>2</th>\n",
       "      <td>AKINS H S</td>\n",
       "      <td>grade_11</td>\n",
       "      <td>2020</td>\n",
       "      <td>7304</td>\n",
       "    </tr>\n",
       "    <tr>\n",
       "      <th>3</th>\n",
       "      <td>AKINS H S</td>\n",
       "      <td>grade_11</td>\n",
       "      <td>2021</td>\n",
       "      <td>7293</td>\n",
       "    </tr>\n",
       "    <tr>\n",
       "      <th>4</th>\n",
       "      <td>AKINS H S</td>\n",
       "      <td>grade_12</td>\n",
       "      <td>2020</td>\n",
       "      <td>6699</td>\n",
       "    </tr>\n",
       "    <tr>\n",
       "      <th>...</th>\n",
       "      <td>...</td>\n",
       "      <td>...</td>\n",
       "      <td>...</td>\n",
       "      <td>...</td>\n",
       "    </tr>\n",
       "    <tr>\n",
       "      <th>1734</th>\n",
       "      <td>ZILKER EL</td>\n",
       "      <td>grade_5</td>\n",
       "      <td>2021</td>\n",
       "      <td>759</td>\n",
       "    </tr>\n",
       "    <tr>\n",
       "      <th>1735</th>\n",
       "      <td>ZILKER EL</td>\n",
       "      <td>kindergarten</td>\n",
       "      <td>2020</td>\n",
       "      <td>847</td>\n",
       "    </tr>\n",
       "    <tr>\n",
       "      <th>1736</th>\n",
       "      <td>ZILKER EL</td>\n",
       "      <td>kindergarten</td>\n",
       "      <td>2021</td>\n",
       "      <td>693</td>\n",
       "    </tr>\n",
       "    <tr>\n",
       "      <th>1737</th>\n",
       "      <td>ZILKER EL</td>\n",
       "      <td>pre_kindergarten</td>\n",
       "      <td>2020</td>\n",
       "      <td>330</td>\n",
       "    </tr>\n",
       "    <tr>\n",
       "      <th>1738</th>\n",
       "      <td>ZILKER EL</td>\n",
       "      <td>pre_kindergarten</td>\n",
       "      <td>2021</td>\n",
       "      <td>143</td>\n",
       "    </tr>\n",
       "  </tbody>\n",
       "</table>\n",
       "<p>1739 rows × 4 columns</p>\n",
       "</div>"
      ],
      "text/plain": [
       "         school             grade  year  total\n",
       "0     AKINS H S          grade_10  2020   7920\n",
       "1     AKINS H S          grade_10  2021   8217\n",
       "2     AKINS H S          grade_11  2020   7304\n",
       "3     AKINS H S          grade_11  2021   7293\n",
       "4     AKINS H S          grade_12  2020   6699\n",
       "...         ...               ...   ...    ...\n",
       "1734  ZILKER EL           grade_5  2021    759\n",
       "1735  ZILKER EL      kindergarten  2020    847\n",
       "1736  ZILKER EL      kindergarten  2021    693\n",
       "1737  ZILKER EL  pre_kindergarten  2020    330\n",
       "1738  ZILKER EL  pre_kindergarten  2021    143\n",
       "\n",
       "[1739 rows x 4 columns]"
      ]
     },
     "execution_count": 9,
     "metadata": {},
     "output_type": "execute_result"
    }
   ],
   "source": [
    "%%bigquery\n",
    "select * from views.austin_enrollments_by_school_grade_year"
   ]
  },
  {
   "cell_type": "markdown",
   "metadata": {},
   "source": [
    "#### 4. Open Looker Studio and create a chart from this view:\n",
    "##### https://lookerstudio.google.com/"
   ]
  },
  {
   "cell_type": "markdown",
   "metadata": {},
   "source": [
    "#### Project 4 homework marker. Start homework from here. "
   ]
  },
  {
   "cell_type": "code",
   "execution_count": 10,
   "metadata": {},
   "outputs": [],
   "source": [
    "#Prevents python related in syntax errors\n",
    "from google.cloud import bigquery\n",
    "clitent = bigquery.Client()"
   ]
  },
  {
   "cell_type": "markdown",
   "metadata": {},
   "source": [
    "#### 1) I'm selecting district names and calculating the average enrollments for both males and females. To obtain this data, I'm utilizing the 'ca' table from the 'school_enrollments' dataset. I'm specifically interested in the year 2020, so I've applied a filter to consider only this year and also to exclude certain grade types like total K-12 enrollments and combined kindergarten records. To get a clearer view, I'm grouping all the results by the district name. I want to ensure that the districts I'm looking at have significant numbers, so I'm only considering those where both male and female averages are over 100 students. To make sense of the data, I'm sorting the results based on the average male enrollment. Lastly, to avoid being overwhelmed with too much data, I'm limiting my output to just the top 10 records."
   ]
  },
  {
   "cell_type": "code",
   "execution_count": 11,
   "metadata": {},
   "outputs": [
    {
     "data": {
      "application/vnd.jupyter.widget-view+json": {
       "model_id": "4d036f1afeba4e438c033a70579324ca",
       "version_major": 2,
       "version_minor": 0
      },
      "text/plain": [
       "Query is running:   0%|          |"
      ]
     },
     "metadata": {},
     "output_type": "display_data"
    },
    {
     "data": {
      "application/vnd.jupyter.widget-view+json": {
       "model_id": "7087554c737b41919efb52b2b85ce2a2",
       "version_major": 2,
       "version_minor": 0
      },
      "text/plain": [
       "Downloading:   0%|          |"
      ]
     },
     "metadata": {},
     "output_type": "display_data"
    },
    {
     "data": {
      "text/html": [
       "<div>\n",
       "<style scoped>\n",
       "    .dataframe tbody tr th:only-of-type {\n",
       "        vertical-align: middle;\n",
       "    }\n",
       "\n",
       "    .dataframe tbody tr th {\n",
       "        vertical-align: top;\n",
       "    }\n",
       "\n",
       "    .dataframe thead th {\n",
       "        text-align: right;\n",
       "    }\n",
       "</style>\n",
       "<table border=\"1\" class=\"dataframe\">\n",
       "  <thead>\n",
       "    <tr style=\"text-align: right;\">\n",
       "      <th></th>\n",
       "      <th>district</th>\n",
       "      <th>avg_male</th>\n",
       "      <th>avg_female</th>\n",
       "    </tr>\n",
       "  </thead>\n",
       "  <tbody>\n",
       "    <tr>\n",
       "      <th>0</th>\n",
       "      <td>Maricopa Unified</td>\n",
       "      <td>100.574074</td>\n",
       "      <td>104.518519</td>\n",
       "    </tr>\n",
       "    <tr>\n",
       "      <th>1</th>\n",
       "      <td>Dehesa Elementary</td>\n",
       "      <td>101.952381</td>\n",
       "      <td>100.833333</td>\n",
       "    </tr>\n",
       "    <tr>\n",
       "      <th>2</th>\n",
       "      <td>Oxnard Union High</td>\n",
       "      <td>105.607143</td>\n",
       "      <td>103.690476</td>\n",
       "    </tr>\n",
       "    <tr>\n",
       "      <th>3</th>\n",
       "      <td>Whittier Union High</td>\n",
       "      <td>106.037037</td>\n",
       "      <td>101.166667</td>\n",
       "    </tr>\n",
       "    <tr>\n",
       "      <th>4</th>\n",
       "      <td>Modesto City High</td>\n",
       "      <td>109.979167</td>\n",
       "      <td>106.638889</td>\n",
       "    </tr>\n",
       "    <tr>\n",
       "      <th>5</th>\n",
       "      <td>Anaheim Union High</td>\n",
       "      <td>116.617424</td>\n",
       "      <td>109.242424</td>\n",
       "    </tr>\n",
       "    <tr>\n",
       "      <th>6</th>\n",
       "      <td>Fullerton Joint Union High</td>\n",
       "      <td>117.983333</td>\n",
       "      <td>108.958333</td>\n",
       "    </tr>\n",
       "    <tr>\n",
       "      <th>7</th>\n",
       "      <td>Fremont Union High</td>\n",
       "      <td>119.010417</td>\n",
       "      <td>111.229167</td>\n",
       "    </tr>\n",
       "    <tr>\n",
       "      <th>8</th>\n",
       "      <td>Antelope Valley Union High</td>\n",
       "      <td>119.927083</td>\n",
       "      <td>114.942708</td>\n",
       "    </tr>\n",
       "    <tr>\n",
       "      <th>9</th>\n",
       "      <td>Kern High</td>\n",
       "      <td>129.243827</td>\n",
       "      <td>125.672840</td>\n",
       "    </tr>\n",
       "  </tbody>\n",
       "</table>\n",
       "</div>"
      ],
      "text/plain": [
       "                     district    avg_male  avg_female\n",
       "0            Maricopa Unified  100.574074  104.518519\n",
       "1           Dehesa Elementary  101.952381  100.833333\n",
       "2           Oxnard Union High  105.607143  103.690476\n",
       "3         Whittier Union High  106.037037  101.166667\n",
       "4           Modesto City High  109.979167  106.638889\n",
       "5          Anaheim Union High  116.617424  109.242424\n",
       "6  Fullerton Joint Union High  117.983333  108.958333\n",
       "7          Fremont Union High  119.010417  111.229167\n",
       "8  Antelope Valley Union High  119.927083  114.942708\n",
       "9                   Kern High  129.243827  125.672840"
      ]
     },
     "execution_count": 11,
     "metadata": {},
     "output_type": "execute_result"
    }
   ],
   "source": [
    "%%bigquery\n",
    "SELECT district, avg(male) as avg_male, avg(female) as avg_female\n",
    "FROM school_enrollments.ca\n",
    "WHERE year = 2020 AND (grade != 'k_12_total' and grade != 'combined_K')\n",
    "GROUP BY district\n",
    "HAVING avg_male > 100 and avg_female > 100\n",
    "ORDER BY avg_male \n",
    "LIMIT 10;"
   ]
  },
  {
   "cell_type": "markdown",
   "metadata": {},
   "source": [
    "#### 2) In this query, I'm focusing on individual schools within districts to understand the count of Hispanic students. I'm selecting the district and school names from the 'ak' table within the 'school_enrollments' dataset. To get the count of Hispanic students in each school, I'm summing up the 'hispanic' column. I'm keen on looking at specific grade data, so I've excluded records where the grade is either the total K-12 count or the combined pre-K to 12th grade count. Once the data is grouped by district and school, I ensure that the results include only those records where the count of Hispanic students is known (not NULL). For better readability and comparison, I'm sorting the results by district, followed by school, and then by the count of Hispanic students in descending order. Lastly, I only want a glimpse of the data, so I'm limiting my output to the top 10 records."
   ]
  },
  {
   "cell_type": "code",
   "execution_count": 12,
   "metadata": {},
   "outputs": [
    {
     "data": {
      "application/vnd.jupyter.widget-view+json": {
       "model_id": "b76e52abad7b409e85c70e1075a0aeb7",
       "version_major": 2,
       "version_minor": 0
      },
      "text/plain": [
       "Query is running:   0%|          |"
      ]
     },
     "metadata": {},
     "output_type": "display_data"
    },
    {
     "data": {
      "application/vnd.jupyter.widget-view+json": {
       "model_id": "aecd7155078441d99b651269616821d0",
       "version_major": 2,
       "version_minor": 0
      },
      "text/plain": [
       "Downloading:   0%|          |"
      ]
     },
     "metadata": {},
     "output_type": "display_data"
    },
    {
     "data": {
      "text/html": [
       "<div>\n",
       "<style scoped>\n",
       "    .dataframe tbody tr th:only-of-type {\n",
       "        vertical-align: middle;\n",
       "    }\n",
       "\n",
       "    .dataframe tbody tr th {\n",
       "        vertical-align: top;\n",
       "    }\n",
       "\n",
       "    .dataframe thead th {\n",
       "        text-align: right;\n",
       "    }\n",
       "</style>\n",
       "<table border=\"1\" class=\"dataframe\">\n",
       "  <thead>\n",
       "    <tr style=\"text-align: right;\">\n",
       "      <th></th>\n",
       "      <th>district</th>\n",
       "      <th>school</th>\n",
       "      <th>Hispanic_count</th>\n",
       "    </tr>\n",
       "  </thead>\n",
       "  <tbody>\n",
       "    <tr>\n",
       "      <th>0</th>\n",
       "      <td>Alaska Gateway Schools</td>\n",
       "      <td></td>\n",
       "      <td>78.0</td>\n",
       "    </tr>\n",
       "    <tr>\n",
       "      <th>1</th>\n",
       "      <td>Alaska Gateway Schools</td>\n",
       "      <td>Alaska REACH Academy</td>\n",
       "      <td>78.0</td>\n",
       "    </tr>\n",
       "    <tr>\n",
       "      <th>2</th>\n",
       "      <td>Aleutian Region Schools</td>\n",
       "      <td></td>\n",
       "      <td>507.0</td>\n",
       "    </tr>\n",
       "    <tr>\n",
       "      <th>3</th>\n",
       "      <td>Aleutian Region Schools</td>\n",
       "      <td>Adak School</td>\n",
       "      <td>507.0</td>\n",
       "    </tr>\n",
       "    <tr>\n",
       "      <th>4</th>\n",
       "      <td>Aleutians East Borough Schools</td>\n",
       "      <td></td>\n",
       "      <td>195.0</td>\n",
       "    </tr>\n",
       "    <tr>\n",
       "      <th>5</th>\n",
       "      <td>Aleutians East Borough Schools</td>\n",
       "      <td>King Cove School</td>\n",
       "      <td>39.0</td>\n",
       "    </tr>\n",
       "    <tr>\n",
       "      <th>6</th>\n",
       "      <td>Aleutians East Borough Schools</td>\n",
       "      <td>Sand Point School</td>\n",
       "      <td>156.0</td>\n",
       "    </tr>\n",
       "    <tr>\n",
       "      <th>7</th>\n",
       "      <td>Anchorage Schools</td>\n",
       "      <td></td>\n",
       "      <td>399451.0</td>\n",
       "    </tr>\n",
       "    <tr>\n",
       "      <th>8</th>\n",
       "      <td>Anchorage Schools</td>\n",
       "      <td>AVAIL School</td>\n",
       "      <td>312.0</td>\n",
       "    </tr>\n",
       "    <tr>\n",
       "      <th>9</th>\n",
       "      <td>Anchorage Schools</td>\n",
       "      <td>Abbott Loop Elementary</td>\n",
       "      <td>2197.0</td>\n",
       "    </tr>\n",
       "  </tbody>\n",
       "</table>\n",
       "</div>"
      ],
      "text/plain": [
       "                         district                  school  Hispanic_count\n",
       "0          Alaska Gateway Schools                                    78.0\n",
       "1          Alaska Gateway Schools    Alaska REACH Academy            78.0\n",
       "2         Aleutian Region Schools                                   507.0\n",
       "3         Aleutian Region Schools             Adak School           507.0\n",
       "4  Aleutians East Borough Schools                                   195.0\n",
       "5  Aleutians East Borough Schools        King Cove School            39.0\n",
       "6  Aleutians East Borough Schools       Sand Point School           156.0\n",
       "7               Anchorage Schools                                399451.0\n",
       "8               Anchorage Schools            AVAIL School           312.0\n",
       "9               Anchorage Schools  Abbott Loop Elementary          2197.0"
      ]
     },
     "execution_count": 12,
     "metadata": {},
     "output_type": "execute_result"
    }
   ],
   "source": [
    "%%bigquery\n",
    "SELECT district, school, sum(hispanic) Hispanic_count \n",
    "FROM school_enrollments.ak \n",
    "WHERE grade != \"k_12_total\" or grade != \"pk_12_total\"\n",
    "GROUP BY district, school \n",
    "HAVING Hispanic_count is not NULL \n",
    "ORDER BY district, school, Hispanic_count DESC\n",
    "LIMIT 10;"
   ]
  },
  {
   "cell_type": "markdown",
   "metadata": {},
   "source": [
    "#### 3) In this query, I'm examining the average enrollments of different racial demographics within schools from the 'ca' table of the 'school_enrollments' dataset for the year 2020. I'm specifically filtering out general enrollments like total K-12 and combined kindergarten. My focus is on schools where the average number of Black students is higher than that of White, Asian, and Hispanic students. I've organized the results to showcase schools with the highest Black enrollments first, followed by descending averages of Hispanic, White, and Asian students. For brevity, I'm limiting the results to the top 10 schools."
   ]
  },
  {
   "cell_type": "code",
   "execution_count": 13,
   "metadata": {},
   "outputs": [
    {
     "data": {
      "application/vnd.jupyter.widget-view+json": {
       "model_id": "c1529797f675486e9a51e0836028d341",
       "version_major": 2,
       "version_minor": 0
      },
      "text/plain": [
       "Query is running:   0%|          |"
      ]
     },
     "metadata": {},
     "output_type": "display_data"
    },
    {
     "data": {
      "application/vnd.jupyter.widget-view+json": {
       "model_id": "1d4bbccb71bb456a834f97c1e7b9024c",
       "version_major": 2,
       "version_minor": 0
      },
      "text/plain": [
       "Downloading:   0%|          |"
      ]
     },
     "metadata": {},
     "output_type": "display_data"
    },
    {
     "data": {
      "text/html": [
       "<div>\n",
       "<style scoped>\n",
       "    .dataframe tbody tr th:only-of-type {\n",
       "        vertical-align: middle;\n",
       "    }\n",
       "\n",
       "    .dataframe tbody tr th {\n",
       "        vertical-align: top;\n",
       "    }\n",
       "\n",
       "    .dataframe thead th {\n",
       "        text-align: right;\n",
       "    }\n",
       "</style>\n",
       "<table border=\"1\" class=\"dataframe\">\n",
       "  <thead>\n",
       "    <tr style=\"text-align: right;\">\n",
       "      <th></th>\n",
       "      <th>school</th>\n",
       "      <th>avg_black</th>\n",
       "      <th>avg_white</th>\n",
       "      <th>avg_asian</th>\n",
       "      <th>avg_hispanic</th>\n",
       "    </tr>\n",
       "  </thead>\n",
       "  <tbody>\n",
       "    <tr>\n",
       "      <th>0</th>\n",
       "      <td>Fortune</td>\n",
       "      <td>66.416667</td>\n",
       "      <td>1.166667</td>\n",
       "      <td>2.666667</td>\n",
       "      <td>24.250000</td>\n",
       "    </tr>\n",
       "    <tr>\n",
       "      <th>1</th>\n",
       "      <td>WESM Health/Sports Medicine</td>\n",
       "      <td>50.416667</td>\n",
       "      <td>2.333333</td>\n",
       "      <td>1.083333</td>\n",
       "      <td>12.583333</td>\n",
       "    </tr>\n",
       "    <tr>\n",
       "      <th>2</th>\n",
       "      <td>Oakland Technical High</td>\n",
       "      <td>43.916667</td>\n",
       "      <td>39.916667</td>\n",
       "      <td>33.750000</td>\n",
       "      <td>31.083333</td>\n",
       "    </tr>\n",
       "    <tr>\n",
       "      <th>3</th>\n",
       "      <td>ICEF View Park Preparatory High</td>\n",
       "      <td>38.166667</td>\n",
       "      <td>0.000000</td>\n",
       "      <td>0.000000</td>\n",
       "      <td>1.916667</td>\n",
       "    </tr>\n",
       "    <tr>\n",
       "      <th>4</th>\n",
       "      <td>Crenshaw Science, Technology, Engineering, Mat...</td>\n",
       "      <td>36.416667</td>\n",
       "      <td>0.416667</td>\n",
       "      <td>0.000000</td>\n",
       "      <td>19.083333</td>\n",
       "    </tr>\n",
       "    <tr>\n",
       "      <th>5</th>\n",
       "      <td>Susan Miller Dorsey Senior High</td>\n",
       "      <td>34.000000</td>\n",
       "      <td>1.000000</td>\n",
       "      <td>0.083333</td>\n",
       "      <td>31.500000</td>\n",
       "    </tr>\n",
       "    <tr>\n",
       "      <th>6</th>\n",
       "      <td>La Tijera K-8 Charter School Academy of Excell...</td>\n",
       "      <td>32.750000</td>\n",
       "      <td>0.083333</td>\n",
       "      <td>0.166667</td>\n",
       "      <td>24.250000</td>\n",
       "    </tr>\n",
       "    <tr>\n",
       "      <th>7</th>\n",
       "      <td>Windsor Hills Math Science</td>\n",
       "      <td>31.000000</td>\n",
       "      <td>0.166667</td>\n",
       "      <td>0.000000</td>\n",
       "      <td>3.416667</td>\n",
       "    </tr>\n",
       "    <tr>\n",
       "      <th>8</th>\n",
       "      <td>Orville Wright Engineering and Design Magnet</td>\n",
       "      <td>30.666667</td>\n",
       "      <td>1.583333</td>\n",
       "      <td>1.333333</td>\n",
       "      <td>15.333333</td>\n",
       "    </tr>\n",
       "    <tr>\n",
       "      <th>9</th>\n",
       "      <td>Ambler Avenue Elementary</td>\n",
       "      <td>29.416667</td>\n",
       "      <td>0.416667</td>\n",
       "      <td>0.583333</td>\n",
       "      <td>6.000000</td>\n",
       "    </tr>\n",
       "  </tbody>\n",
       "</table>\n",
       "</div>"
      ],
      "text/plain": [
       "                                              school  avg_black  avg_white  \\\n",
       "0                                            Fortune  66.416667   1.166667   \n",
       "1                        WESM Health/Sports Medicine  50.416667   2.333333   \n",
       "2                             Oakland Technical High  43.916667  39.916667   \n",
       "3                    ICEF View Park Preparatory High  38.166667   0.000000   \n",
       "4  Crenshaw Science, Technology, Engineering, Mat...  36.416667   0.416667   \n",
       "5                    Susan Miller Dorsey Senior High  34.000000   1.000000   \n",
       "6  La Tijera K-8 Charter School Academy of Excell...  32.750000   0.083333   \n",
       "7                         Windsor Hills Math Science  31.000000   0.166667   \n",
       "8       Orville Wright Engineering and Design Magnet  30.666667   1.583333   \n",
       "9                           Ambler Avenue Elementary  29.416667   0.416667   \n",
       "\n",
       "   avg_asian  avg_hispanic  \n",
       "0   2.666667     24.250000  \n",
       "1   1.083333     12.583333  \n",
       "2  33.750000     31.083333  \n",
       "3   0.000000      1.916667  \n",
       "4   0.000000     19.083333  \n",
       "5   0.083333     31.500000  \n",
       "6   0.166667     24.250000  \n",
       "7   0.000000      3.416667  \n",
       "8   1.333333     15.333333  \n",
       "9   0.583333      6.000000  "
      ]
     },
     "execution_count": 13,
     "metadata": {},
     "output_type": "execute_result"
    }
   ],
   "source": [
    "%%bigquery\n",
    "SELECT school, AVG(black) as avg_black , AVG(white) as avg_white, AVG(asian) as avg_asian, AVG(hispanic) as avg_hispanic\n",
    "FROM school_enrollments.ca\n",
    "WHERE year = 2020\n",
    "AND (grade != 'k_12_total' and grade != 'combined_K')\n",
    "GROUP BY school \n",
    "HAVING avg_black > avg_white and avg_black > avg_asian and avg_black > avg_hispanic\n",
    "ORDER BY avg_black DESC, avg_hispanic DESC, avg_white DESC, avg_asian DESC\n",
    "LIMIT 10;"
   ]
  },
  {
   "cell_type": "markdown",
   "metadata": {},
   "source": [
    "#### 4) In this query, I'm delving into the 'tx' table from the 'school_enrollments' dataset to explore the average male enrollment within districts for the year 2020. To ensure accurate calculations, I'm converting the 'male' column values to floating-point numbers. After grouping the results by district, I'm specifically interested in those where the average male enrollment exceeds 500. To make the data insightful, I'm sorting districts with the highest average male enrollments at the top, and I'm capping my results to the top 10 districts for a concise overview."
   ]
  },
  {
   "cell_type": "code",
   "execution_count": 14,
   "metadata": {},
   "outputs": [
    {
     "data": {
      "application/vnd.jupyter.widget-view+json": {
       "model_id": "6ecc10822a7e4346a60a754dc2f9ad83",
       "version_major": 2,
       "version_minor": 0
      },
      "text/plain": [
       "Query is running:   0%|          |"
      ]
     },
     "metadata": {},
     "output_type": "display_data"
    },
    {
     "data": {
      "application/vnd.jupyter.widget-view+json": {
       "model_id": "97304929177f4d81a44964f1c6e29297",
       "version_major": 2,
       "version_minor": 0
      },
      "text/plain": [
       "Downloading:   0%|          |"
      ]
     },
     "metadata": {},
     "output_type": "display_data"
    },
    {
     "data": {
      "text/html": [
       "<div>\n",
       "<style scoped>\n",
       "    .dataframe tbody tr th:only-of-type {\n",
       "        vertical-align: middle;\n",
       "    }\n",
       "\n",
       "    .dataframe tbody tr th {\n",
       "        vertical-align: top;\n",
       "    }\n",
       "\n",
       "    .dataframe thead th {\n",
       "        text-align: right;\n",
       "    }\n",
       "</style>\n",
       "<table border=\"1\" class=\"dataframe\">\n",
       "  <thead>\n",
       "    <tr style=\"text-align: right;\">\n",
       "      <th></th>\n",
       "      <th>district</th>\n",
       "      <th>avg_male_enrollment</th>\n",
       "    </tr>\n",
       "  </thead>\n",
       "  <tbody>\n",
       "    <tr>\n",
       "      <th>0</th>\n",
       "      <td>CYPRESS-FAIRBANKS ISD</td>\n",
       "      <td>1399.953488</td>\n",
       "    </tr>\n",
       "    <tr>\n",
       "      <th>1</th>\n",
       "      <td>HALLSVILLE ISD</td>\n",
       "      <td>1351.000000</td>\n",
       "    </tr>\n",
       "    <tr>\n",
       "      <th>2</th>\n",
       "      <td>KATY ISD</td>\n",
       "      <td>1281.820896</td>\n",
       "    </tr>\n",
       "    <tr>\n",
       "      <th>3</th>\n",
       "      <td>TRINITY BASIN PREPARATORY</td>\n",
       "      <td>1239.333333</td>\n",
       "    </tr>\n",
       "    <tr>\n",
       "      <th>4</th>\n",
       "      <td>KLEIN ISD</td>\n",
       "      <td>1157.812500</td>\n",
       "    </tr>\n",
       "    <tr>\n",
       "      <th>5</th>\n",
       "      <td>CONROE ISD</td>\n",
       "      <td>1126.711864</td>\n",
       "    </tr>\n",
       "    <tr>\n",
       "      <th>6</th>\n",
       "      <td>ALIEF ISD</td>\n",
       "      <td>1076.409091</td>\n",
       "    </tr>\n",
       "    <tr>\n",
       "      <th>7</th>\n",
       "      <td>PROSPER ISD</td>\n",
       "      <td>1069.500000</td>\n",
       "    </tr>\n",
       "    <tr>\n",
       "      <th>8</th>\n",
       "      <td>LAKE TRAVIS ISD</td>\n",
       "      <td>1054.545455</td>\n",
       "    </tr>\n",
       "    <tr>\n",
       "      <th>9</th>\n",
       "      <td>MINERAL WELLS ISD</td>\n",
       "      <td>1037.666667</td>\n",
       "    </tr>\n",
       "  </tbody>\n",
       "</table>\n",
       "</div>"
      ],
      "text/plain": [
       "                    district  avg_male_enrollment\n",
       "0      CYPRESS-FAIRBANKS ISD          1399.953488\n",
       "1             HALLSVILLE ISD          1351.000000\n",
       "2                   KATY ISD          1281.820896\n",
       "3  TRINITY BASIN PREPARATORY          1239.333333\n",
       "4                  KLEIN ISD          1157.812500\n",
       "5                 CONROE ISD          1126.711864\n",
       "6                  ALIEF ISD          1076.409091\n",
       "7                PROSPER ISD          1069.500000\n",
       "8            LAKE TRAVIS ISD          1054.545455\n",
       "9          MINERAL WELLS ISD          1037.666667"
      ]
     },
     "execution_count": 14,
     "metadata": {},
     "output_type": "execute_result"
    }
   ],
   "source": [
    "%%bigquery\n",
    "SELECT district, \n",
    "       AVG(SAFE_CAST(male AS FLOAT64)) as avg_male_enrollment\n",
    "FROM school_enrollments.tx\n",
    "WHERE year = 2020\n",
    "GROUP BY district\n",
    "HAVING avg_male_enrollment > 500\n",
    "ORDER BY avg_male_enrollment DESC\n",
    "LIMIT 10;\n"
   ]
  },
  {
   "cell_type": "markdown",
   "metadata": {},
   "source": [
    "#### 5) In this query, I'm computing the average Hispanic enrollment as a fraction for two states: New Mexico and Nevada, using their respective tables within the 'school_enrollments' dataset. I'm safely converting the 'hispanic' values to floating-point for accuracy. From the computed averages, I'm selecting states with Hispanic enrollments greater than 50%. The results are then sorted in descending order based on the average Hispanic enrollment."
   ]
  },
  {
   "cell_type": "code",
   "execution_count": 15,
   "metadata": {},
   "outputs": [
    {
     "data": {
      "application/vnd.jupyter.widget-view+json": {
       "model_id": "8854cea04ce142d9b6ac9f6fb485489a",
       "version_major": 2,
       "version_minor": 0
      },
      "text/plain": [
       "Query is running:   0%|          |"
      ]
     },
     "metadata": {},
     "output_type": "display_data"
    },
    {
     "data": {
      "application/vnd.jupyter.widget-view+json": {
       "model_id": "652fa486521445b19bfdc83b7b1f6af2",
       "version_major": 2,
       "version_minor": 0
      },
      "text/plain": [
       "Downloading:   0%|          |"
      ]
     },
     "metadata": {},
     "output_type": "display_data"
    },
    {
     "data": {
      "text/html": [
       "<div>\n",
       "<style scoped>\n",
       "    .dataframe tbody tr th:only-of-type {\n",
       "        vertical-align: middle;\n",
       "    }\n",
       "\n",
       "    .dataframe tbody tr th {\n",
       "        vertical-align: top;\n",
       "    }\n",
       "\n",
       "    .dataframe thead th {\n",
       "        text-align: right;\n",
       "    }\n",
       "</style>\n",
       "<table border=\"1\" class=\"dataframe\">\n",
       "  <thead>\n",
       "    <tr style=\"text-align: right;\">\n",
       "      <th></th>\n",
       "      <th>state</th>\n",
       "      <th>avg_hispanic</th>\n",
       "    </tr>\n",
       "  </thead>\n",
       "  <tbody>\n",
       "    <tr>\n",
       "      <th>0</th>\n",
       "      <td>nm</td>\n",
       "      <td>199.982456</td>\n",
       "    </tr>\n",
       "    <tr>\n",
       "      <th>1</th>\n",
       "      <td>nv</td>\n",
       "      <td>157.490828</td>\n",
       "    </tr>\n",
       "  </tbody>\n",
       "</table>\n",
       "</div>"
      ],
      "text/plain": [
       "  state  avg_hispanic\n",
       "0    nm    199.982456\n",
       "1    nv    157.490828"
      ]
     },
     "execution_count": 15,
     "metadata": {},
     "output_type": "execute_result"
    }
   ],
   "source": [
    "%%bigquery\n",
    "WITH StateHispanicAvg AS (\n",
    "    SELECT 'nm' as state, AVG(SAFE_CAST(hispanic AS FLOAT64)) as avg_hispanic FROM school_enrollments.nm UNION ALL\n",
    "    SELECT 'nv' as state, AVG(SAFE_CAST(hispanic AS FLOAT64)) as avg_hispanic FROM school_enrollments.nv \n",
    ")\n",
    "SELECT state, avg_hispanic\n",
    "FROM StateHispanicAvg\n",
    "WHERE avg_hispanic > 0.5\n",
    "ORDER BY avg_hispanic DESC;\n"
   ]
  },
  {
   "cell_type": "markdown",
   "metadata": {},
   "source": [
    "#### 6) In this query, I'm grouping all of the counties in the state of Washington together, and we are finding the average homelessness rate per county to get a feel of what counties might be of low income and face economic hardships. We exclude the total count 'pk_12_total' because this number skews real data since it's the total."
   ]
  },
  {
   "cell_type": "code",
   "execution_count": 16,
   "metadata": {
    "tags": []
   },
   "outputs": [
    {
     "data": {
      "application/vnd.jupyter.widget-view+json": {
       "model_id": "20366b5d1fd9401eb0699de700e69615",
       "version_major": 2,
       "version_minor": 0
      },
      "text/plain": [
       "Query is running:   0%|          |"
      ]
     },
     "metadata": {},
     "output_type": "display_data"
    },
    {
     "data": {
      "application/vnd.jupyter.widget-view+json": {
       "model_id": "efca89354cf74399b2e55d28ccfc5783",
       "version_major": 2,
       "version_minor": 0
      },
      "text/plain": [
       "Downloading:   0%|          |"
      ]
     },
     "metadata": {},
     "output_type": "display_data"
    },
    {
     "data": {
      "text/html": [
       "<div>\n",
       "<style scoped>\n",
       "    .dataframe tbody tr th:only-of-type {\n",
       "        vertical-align: middle;\n",
       "    }\n",
       "\n",
       "    .dataframe tbody tr th {\n",
       "        vertical-align: top;\n",
       "    }\n",
       "\n",
       "    .dataframe thead th {\n",
       "        text-align: right;\n",
       "    }\n",
       "</style>\n",
       "<table border=\"1\" class=\"dataframe\">\n",
       "  <thead>\n",
       "    <tr style=\"text-align: right;\">\n",
       "      <th></th>\n",
       "      <th>County</th>\n",
       "      <th>Homeless_average</th>\n",
       "    </tr>\n",
       "  </thead>\n",
       "  <tbody>\n",
       "    <tr>\n",
       "      <th>0</th>\n",
       "      <td>Mason</td>\n",
       "      <td>5.525753</td>\n",
       "    </tr>\n",
       "    <tr>\n",
       "      <th>1</th>\n",
       "      <td>Yakima</td>\n",
       "      <td>4.961646</td>\n",
       "    </tr>\n",
       "    <tr>\n",
       "      <th>2</th>\n",
       "      <td>Clark</td>\n",
       "      <td>4.662744</td>\n",
       "    </tr>\n",
       "    <tr>\n",
       "      <th>3</th>\n",
       "      <td>Pierce</td>\n",
       "      <td>4.516443</td>\n",
       "    </tr>\n",
       "    <tr>\n",
       "      <th>4</th>\n",
       "      <td>Island</td>\n",
       "      <td>4.465517</td>\n",
       "    </tr>\n",
       "    <tr>\n",
       "      <th>5</th>\n",
       "      <td>Thurston</td>\n",
       "      <td>4.267271</td>\n",
       "    </tr>\n",
       "    <tr>\n",
       "      <th>6</th>\n",
       "      <td>Snohomish</td>\n",
       "      <td>4.134269</td>\n",
       "    </tr>\n",
       "    <tr>\n",
       "      <th>7</th>\n",
       "      <td>Cowlitz</td>\n",
       "      <td>4.094995</td>\n",
       "    </tr>\n",
       "    <tr>\n",
       "      <th>8</th>\n",
       "      <td>Spokane</td>\n",
       "      <td>4.072732</td>\n",
       "    </tr>\n",
       "    <tr>\n",
       "      <th>9</th>\n",
       "      <td>King</td>\n",
       "      <td>3.981338</td>\n",
       "    </tr>\n",
       "    <tr>\n",
       "      <th>10</th>\n",
       "      <td>Chelan</td>\n",
       "      <td>3.801825</td>\n",
       "    </tr>\n",
       "    <tr>\n",
       "      <th>11</th>\n",
       "      <td>Grant</td>\n",
       "      <td>3.754192</td>\n",
       "    </tr>\n",
       "    <tr>\n",
       "      <th>12</th>\n",
       "      <td>Grays Harbor</td>\n",
       "      <td>3.253128</td>\n",
       "    </tr>\n",
       "    <tr>\n",
       "      <th>13</th>\n",
       "      <td>Asotin</td>\n",
       "      <td>3.208909</td>\n",
       "    </tr>\n",
       "    <tr>\n",
       "      <th>14</th>\n",
       "      <td>Douglas</td>\n",
       "      <td>3.019157</td>\n",
       "    </tr>\n",
       "    <tr>\n",
       "      <th>15</th>\n",
       "      <td>Whatcom</td>\n",
       "      <td>2.990465</td>\n",
       "    </tr>\n",
       "    <tr>\n",
       "      <th>16</th>\n",
       "      <td>Skagit</td>\n",
       "      <td>2.987755</td>\n",
       "    </tr>\n",
       "    <tr>\n",
       "      <th>17</th>\n",
       "      <td>Franklin</td>\n",
       "      <td>2.909404</td>\n",
       "    </tr>\n",
       "    <tr>\n",
       "      <th>18</th>\n",
       "      <td>Wahkiakum</td>\n",
       "      <td>2.816327</td>\n",
       "    </tr>\n",
       "    <tr>\n",
       "      <th>19</th>\n",
       "      <td>Pacific</td>\n",
       "      <td>2.799291</td>\n",
       "    </tr>\n",
       "    <tr>\n",
       "      <th>20</th>\n",
       "      <td>Benton</td>\n",
       "      <td>2.784605</td>\n",
       "    </tr>\n",
       "    <tr>\n",
       "      <th>21</th>\n",
       "      <td>Lewis</td>\n",
       "      <td>2.749010</td>\n",
       "    </tr>\n",
       "    <tr>\n",
       "      <th>22</th>\n",
       "      <td>Pend Oreille</td>\n",
       "      <td>2.636364</td>\n",
       "    </tr>\n",
       "    <tr>\n",
       "      <th>23</th>\n",
       "      <td>Clallam</td>\n",
       "      <td>2.217962</td>\n",
       "    </tr>\n",
       "    <tr>\n",
       "      <th>24</th>\n",
       "      <td>Kitsap</td>\n",
       "      <td>2.088611</td>\n",
       "    </tr>\n",
       "    <tr>\n",
       "      <th>25</th>\n",
       "      <td>Walla Walla</td>\n",
       "      <td>2.027414</td>\n",
       "    </tr>\n",
       "    <tr>\n",
       "      <th>26</th>\n",
       "      <td>Okanogan</td>\n",
       "      <td>1.639553</td>\n",
       "    </tr>\n",
       "    <tr>\n",
       "      <th>27</th>\n",
       "      <td>Stevens</td>\n",
       "      <td>1.358343</td>\n",
       "    </tr>\n",
       "    <tr>\n",
       "      <th>28</th>\n",
       "      <td>Adams</td>\n",
       "      <td>1.152830</td>\n",
       "    </tr>\n",
       "    <tr>\n",
       "      <th>29</th>\n",
       "      <td>Skamania</td>\n",
       "      <td>0.975845</td>\n",
       "    </tr>\n",
       "    <tr>\n",
       "      <th>30</th>\n",
       "      <td>Klickitat</td>\n",
       "      <td>0.740967</td>\n",
       "    </tr>\n",
       "    <tr>\n",
       "      <th>31</th>\n",
       "      <td>Jefferson</td>\n",
       "      <td>0.712378</td>\n",
       "    </tr>\n",
       "    <tr>\n",
       "      <th>32</th>\n",
       "      <td>Kittitas</td>\n",
       "      <td>0.686474</td>\n",
       "    </tr>\n",
       "    <tr>\n",
       "      <th>33</th>\n",
       "      <td>San Juan</td>\n",
       "      <td>0.572973</td>\n",
       "    </tr>\n",
       "    <tr>\n",
       "      <th>34</th>\n",
       "      <td>Columbia</td>\n",
       "      <td>0.501548</td>\n",
       "    </tr>\n",
       "    <tr>\n",
       "      <th>35</th>\n",
       "      <td>Ferry</td>\n",
       "      <td>0.439701</td>\n",
       "    </tr>\n",
       "    <tr>\n",
       "      <th>36</th>\n",
       "      <td>Whitman</td>\n",
       "      <td>0.413474</td>\n",
       "    </tr>\n",
       "    <tr>\n",
       "      <th>37</th>\n",
       "      <td>Lincoln</td>\n",
       "      <td>0.213646</td>\n",
       "    </tr>\n",
       "    <tr>\n",
       "      <th>38</th>\n",
       "      <td>Garfield</td>\n",
       "      <td>0.051020</td>\n",
       "    </tr>\n",
       "  </tbody>\n",
       "</table>\n",
       "</div>"
      ],
      "text/plain": [
       "          County  Homeless_average\n",
       "0          Mason          5.525753\n",
       "1         Yakima          4.961646\n",
       "2          Clark          4.662744\n",
       "3         Pierce          4.516443\n",
       "4         Island          4.465517\n",
       "5       Thurston          4.267271\n",
       "6      Snohomish          4.134269\n",
       "7        Cowlitz          4.094995\n",
       "8        Spokane          4.072732\n",
       "9           King          3.981338\n",
       "10        Chelan          3.801825\n",
       "11         Grant          3.754192\n",
       "12  Grays Harbor          3.253128\n",
       "13        Asotin          3.208909\n",
       "14       Douglas          3.019157\n",
       "15       Whatcom          2.990465\n",
       "16        Skagit          2.987755\n",
       "17      Franklin          2.909404\n",
       "18     Wahkiakum          2.816327\n",
       "19       Pacific          2.799291\n",
       "20        Benton          2.784605\n",
       "21         Lewis          2.749010\n",
       "22  Pend Oreille          2.636364\n",
       "23       Clallam          2.217962\n",
       "24        Kitsap          2.088611\n",
       "25   Walla Walla          2.027414\n",
       "26      Okanogan          1.639553\n",
       "27       Stevens          1.358343\n",
       "28         Adams          1.152830\n",
       "29      Skamania          0.975845\n",
       "30     Klickitat          0.740967\n",
       "31     Jefferson          0.712378\n",
       "32      Kittitas          0.686474\n",
       "33      San Juan          0.572973\n",
       "34      Columbia          0.501548\n",
       "35         Ferry          0.439701\n",
       "36       Whitman          0.413474\n",
       "37       Lincoln          0.213646\n",
       "38      Garfield          0.051020"
      ]
     },
     "execution_count": 16,
     "metadata": {},
     "output_type": "execute_result"
    }
   ],
   "source": [
    "%%bigquery\n",
    "SELECT county County, avg(homeless) Homeless_average\n",
    "FROM school_enrollments.wa\n",
    "WHERE grade != 'pk_12_total'\n",
    "GROUP BY county\n",
    "ORDER BY Homeless_average desc"
   ]
  },
  {
   "cell_type": "markdown",
   "metadata": {},
   "source": [
    "#### 7) In this query I am grouping the total number of students in a school with in a district and comaaring it to the amount of students who are on Free and Reduced Lunches"
   ]
  },
  {
   "cell_type": "code",
   "execution_count": 17,
   "metadata": {},
   "outputs": [
    {
     "data": {
      "application/vnd.jupyter.widget-view+json": {
       "model_id": "cd19d9ead359469888b9280f1c22fa27",
       "version_major": 2,
       "version_minor": 0
      },
      "text/plain": [
       "Query is running:   0%|          |"
      ]
     },
     "metadata": {},
     "output_type": "display_data"
    },
    {
     "data": {
      "application/vnd.jupyter.widget-view+json": {
       "model_id": "5c8ee5eae33747eaae5680d31893ecc9",
       "version_major": 2,
       "version_minor": 0
      },
      "text/plain": [
       "Downloading:   0%|          |"
      ]
     },
     "metadata": {},
     "output_type": "display_data"
    },
    {
     "data": {
      "text/html": [
       "<div>\n",
       "<style scoped>\n",
       "    .dataframe tbody tr th:only-of-type {\n",
       "        vertical-align: middle;\n",
       "    }\n",
       "\n",
       "    .dataframe tbody tr th {\n",
       "        vertical-align: top;\n",
       "    }\n",
       "\n",
       "    .dataframe thead th {\n",
       "        text-align: right;\n",
       "    }\n",
       "</style>\n",
       "<table border=\"1\" class=\"dataframe\">\n",
       "  <thead>\n",
       "    <tr style=\"text-align: right;\">\n",
       "      <th></th>\n",
       "      <th>school_name</th>\n",
       "      <th>total_free_and_reduced_students</th>\n",
       "      <th>total_students</th>\n",
       "      <th>free_and_reduced_percentage</th>\n",
       "    </tr>\n",
       "  </thead>\n",
       "  <tbody>\n",
       "    <tr>\n",
       "      <th>0</th>\n",
       "      <td>California School for the Deaf-Fremont (State ...</td>\n",
       "      <td>4188.0</td>\n",
       "      <td>8400.0</td>\n",
       "      <td>50.0</td>\n",
       "    </tr>\n",
       "    <tr>\n",
       "      <th>1</th>\n",
       "      <td>California School for the Blind (State Special...</td>\n",
       "      <td>768.0</td>\n",
       "      <td>1536.0</td>\n",
       "      <td>50.0</td>\n",
       "    </tr>\n",
       "    <tr>\n",
       "      <th>2</th>\n",
       "      <td>SBE - Celerity Himalia</td>\n",
       "      <td>8232.0</td>\n",
       "      <td>17232.0</td>\n",
       "      <td>48.0</td>\n",
       "    </tr>\n",
       "    <tr>\n",
       "      <th>3</th>\n",
       "      <td>SBE - OnePurpose</td>\n",
       "      <td>1080.0</td>\n",
       "      <td>2400.0</td>\n",
       "      <td>45.0</td>\n",
       "    </tr>\n",
       "    <tr>\n",
       "      <th>4</th>\n",
       "      <td>SBE - Academia Avance Charter</td>\n",
       "      <td>3564.0</td>\n",
       "      <td>7872.0</td>\n",
       "      <td>45.0</td>\n",
       "    </tr>\n",
       "    <tr>\n",
       "      <th>5</th>\n",
       "      <td>Elkins Elementary</td>\n",
       "      <td>96.0</td>\n",
       "      <td>216.0</td>\n",
       "      <td>44.0</td>\n",
       "    </tr>\n",
       "    <tr>\n",
       "      <th>6</th>\n",
       "      <td>SBE - Prepa Tec Los Angeles High</td>\n",
       "      <td>3540.0</td>\n",
       "      <td>8160.0</td>\n",
       "      <td>43.0</td>\n",
       "    </tr>\n",
       "    <tr>\n",
       "      <th>7</th>\n",
       "      <td>SBE - Magnolia Science Academy Santa Ana</td>\n",
       "      <td>5472.0</td>\n",
       "      <td>13104.0</td>\n",
       "      <td>42.0</td>\n",
       "    </tr>\n",
       "    <tr>\n",
       "      <th>8</th>\n",
       "      <td>SBE - KIPP Bayview Elementary</td>\n",
       "      <td>1092.0</td>\n",
       "      <td>2616.0</td>\n",
       "      <td>42.0</td>\n",
       "    </tr>\n",
       "    <tr>\n",
       "      <th>9</th>\n",
       "      <td>SBE - Watsonville Prep</td>\n",
       "      <td>1644.0</td>\n",
       "      <td>4032.0</td>\n",
       "      <td>41.0</td>\n",
       "    </tr>\n",
       "    <tr>\n",
       "      <th>10</th>\n",
       "      <td>Igo, Ono, Platina Union Elementary</td>\n",
       "      <td>348.0</td>\n",
       "      <td>840.0</td>\n",
       "      <td>41.0</td>\n",
       "    </tr>\n",
       "    <tr>\n",
       "      <th>11</th>\n",
       "      <td>SBE - Mary L. Booker Leadership Academy</td>\n",
       "      <td>552.0</td>\n",
       "      <td>1368.0</td>\n",
       "      <td>40.0</td>\n",
       "    </tr>\n",
       "    <tr>\n",
       "      <th>12</th>\n",
       "      <td>SBE - Baypoint Preparatory Academy</td>\n",
       "      <td>3624.0</td>\n",
       "      <td>8952.0</td>\n",
       "      <td>40.0</td>\n",
       "    </tr>\n",
       "    <tr>\n",
       "      <th>13</th>\n",
       "      <td>SBE - Rocketship Futuro Academy</td>\n",
       "      <td>5040.0</td>\n",
       "      <td>12792.0</td>\n",
       "      <td>39.0</td>\n",
       "    </tr>\n",
       "    <tr>\n",
       "      <th>14</th>\n",
       "      <td>SBE - Perseverance Preparatory</td>\n",
       "      <td>300.0</td>\n",
       "      <td>792.0</td>\n",
       "      <td>38.0</td>\n",
       "    </tr>\n",
       "    <tr>\n",
       "      <th>15</th>\n",
       "      <td>SBE - Olive Grove Charter - Lompoc</td>\n",
       "      <td>1248.0</td>\n",
       "      <td>3312.0</td>\n",
       "      <td>38.0</td>\n",
       "    </tr>\n",
       "    <tr>\n",
       "      <th>16</th>\n",
       "      <td>SBE - Vista Springs Charter</td>\n",
       "      <td>1896.0</td>\n",
       "      <td>5136.0</td>\n",
       "      <td>37.0</td>\n",
       "    </tr>\n",
       "    <tr>\n",
       "      <th>17</th>\n",
       "      <td>SBE - Latitude 37.8 High</td>\n",
       "      <td>900.0</td>\n",
       "      <td>2472.0</td>\n",
       "      <td>36.0</td>\n",
       "    </tr>\n",
       "    <tr>\n",
       "      <th>18</th>\n",
       "      <td>SBE - Sweetwater Secondary</td>\n",
       "      <td>2508.0</td>\n",
       "      <td>7176.0</td>\n",
       "      <td>35.0</td>\n",
       "    </tr>\n",
       "    <tr>\n",
       "      <th>19</th>\n",
       "      <td>SBE - Olive Grove Charter - Orcutt/Santa Maria</td>\n",
       "      <td>2160.0</td>\n",
       "      <td>6288.0</td>\n",
       "      <td>34.0</td>\n",
       "    </tr>\n",
       "    <tr>\n",
       "      <th>20</th>\n",
       "      <td>SBE - KIPP Navigate College Prep</td>\n",
       "      <td>1320.0</td>\n",
       "      <td>4008.0</td>\n",
       "      <td>33.0</td>\n",
       "    </tr>\n",
       "    <tr>\n",
       "      <th>21</th>\n",
       "      <td>SBE - Grossmont Secondary</td>\n",
       "      <td>2424.0</td>\n",
       "      <td>7608.0</td>\n",
       "      <td>32.0</td>\n",
       "    </tr>\n",
       "    <tr>\n",
       "      <th>22</th>\n",
       "      <td>SBE - Olive Grove Charter</td>\n",
       "      <td>144.0</td>\n",
       "      <td>456.0</td>\n",
       "      <td>32.0</td>\n",
       "    </tr>\n",
       "    <tr>\n",
       "      <th>23</th>\n",
       "      <td>SBE - Los Angeles College Prep Academy</td>\n",
       "      <td>876.0</td>\n",
       "      <td>2712.0</td>\n",
       "      <td>32.0</td>\n",
       "    </tr>\n",
       "    <tr>\n",
       "      <th>24</th>\n",
       "      <td>SBE - The School of Arts and Enterprise</td>\n",
       "      <td>5736.0</td>\n",
       "      <td>18168.0</td>\n",
       "      <td>32.0</td>\n",
       "    </tr>\n",
       "  </tbody>\n",
       "</table>\n",
       "</div>"
      ],
      "text/plain": [
       "                                          school_name  \\\n",
       "0   California School for the Deaf-Fremont (State ...   \n",
       "1   California School for the Blind (State Special...   \n",
       "2                              SBE - Celerity Himalia   \n",
       "3                                    SBE - OnePurpose   \n",
       "4                       SBE - Academia Avance Charter   \n",
       "5                                   Elkins Elementary   \n",
       "6                    SBE - Prepa Tec Los Angeles High   \n",
       "7            SBE - Magnolia Science Academy Santa Ana   \n",
       "8                       SBE - KIPP Bayview Elementary   \n",
       "9                              SBE - Watsonville Prep   \n",
       "10                 Igo, Ono, Platina Union Elementary   \n",
       "11            SBE - Mary L. Booker Leadership Academy   \n",
       "12                 SBE - Baypoint Preparatory Academy   \n",
       "13                    SBE - Rocketship Futuro Academy   \n",
       "14                     SBE - Perseverance Preparatory   \n",
       "15                 SBE - Olive Grove Charter - Lompoc   \n",
       "16                        SBE - Vista Springs Charter   \n",
       "17                           SBE - Latitude 37.8 High   \n",
       "18                         SBE - Sweetwater Secondary   \n",
       "19     SBE - Olive Grove Charter - Orcutt/Santa Maria   \n",
       "20                   SBE - KIPP Navigate College Prep   \n",
       "21                          SBE - Grossmont Secondary   \n",
       "22                          SBE - Olive Grove Charter   \n",
       "23             SBE - Los Angeles College Prep Academy   \n",
       "24            SBE - The School of Arts and Enterprise   \n",
       "\n",
       "    total_free_and_reduced_students  total_students  \\\n",
       "0                            4188.0          8400.0   \n",
       "1                             768.0          1536.0   \n",
       "2                            8232.0         17232.0   \n",
       "3                            1080.0          2400.0   \n",
       "4                            3564.0          7872.0   \n",
       "5                              96.0           216.0   \n",
       "6                            3540.0          8160.0   \n",
       "7                            5472.0         13104.0   \n",
       "8                            1092.0          2616.0   \n",
       "9                            1644.0          4032.0   \n",
       "10                            348.0           840.0   \n",
       "11                            552.0          1368.0   \n",
       "12                           3624.0          8952.0   \n",
       "13                           5040.0         12792.0   \n",
       "14                            300.0           792.0   \n",
       "15                           1248.0          3312.0   \n",
       "16                           1896.0          5136.0   \n",
       "17                            900.0          2472.0   \n",
       "18                           2508.0          7176.0   \n",
       "19                           2160.0          6288.0   \n",
       "20                           1320.0          4008.0   \n",
       "21                           2424.0          7608.0   \n",
       "22                            144.0           456.0   \n",
       "23                            876.0          2712.0   \n",
       "24                           5736.0         18168.0   \n",
       "\n",
       "    free_and_reduced_percentage  \n",
       "0                          50.0  \n",
       "1                          50.0  \n",
       "2                          48.0  \n",
       "3                          45.0  \n",
       "4                          45.0  \n",
       "5                          44.0  \n",
       "6                          43.0  \n",
       "7                          42.0  \n",
       "8                          42.0  \n",
       "9                          41.0  \n",
       "10                         41.0  \n",
       "11                         40.0  \n",
       "12                         40.0  \n",
       "13                         39.0  \n",
       "14                         38.0  \n",
       "15                         38.0  \n",
       "16                         37.0  \n",
       "17                         36.0  \n",
       "18                         35.0  \n",
       "19                         34.0  \n",
       "20                         33.0  \n",
       "21                         32.0  \n",
       "22                         32.0  \n",
       "23                         32.0  \n",
       "24                         32.0  "
      ]
     },
     "execution_count": 17,
     "metadata": {},
     "output_type": "execute_result"
    }
   ],
   "source": [
    "%%bigquery\n",
    "#Used this query to make chart2.pdf\n",
    "SELECT \n",
    "    district AS school_name,\n",
    "    SUM(SAFE_CAST(free_and_reduced AS FLOAT64)) AS total_free_and_reduced_students,\n",
    "    SUM(SAFE_CAST(total AS FLOAT64)) AS total_students,\n",
    "    ROUND(\n",
    "        COALESCE(\n",
    "            IF(\n",
    "                IS_NAN(\n",
    "                    SAFE_DIVIDE(SUM(SAFE_CAST(free_and_reduced AS FLOAT64)), SUM(SAFE_CAST(total AS FLOAT64))) * 100\n",
    "                ),\n",
    "                0,\n",
    "                SAFE_DIVIDE(SUM(SAFE_CAST(free_and_reduced AS FLOAT64)), SUM(SAFE_CAST(total AS FLOAT64))) * 100\n",
    "            ),\n",
    "            0\n",
    "        )\n",
    "    ) AS free_and_reduced_percentage\n",
    "FROM\n",
    "    school_enrollments.ca\n",
    "WHERE \n",
    "    year = 2020\n",
    "GROUP BY\n",
    "    district\n",
    "ORDER BY\n",
    "    free_and_reduced_percentage DESC\n",
    "LIMIT 25;\n"
   ]
  },
  {
   "cell_type": "markdown",
   "metadata": {},
   "source": [
    "#### 8) This query finds the total number of hispanic students in the state of Arizona and Indiana, sums the result and groups them by year showing the increase over the years."
   ]
  },
  {
   "cell_type": "code",
   "execution_count": null,
   "metadata": {},
   "outputs": [],
   "source": [
    "%%bigquery\n",
    "SELECT indiana.year, (arizona.total_hispanics + indiana.total_hispanics) Arizona_and_Indiana_Hispanic_Count\n",
    "FROM \n",
    "    (SELECT DISTINCT i.year, sum(i.hispanic) total_hispanics\n",
    "    FROM school_enrollments.in i\n",
    "    WHERE grade = 'pk_12_total' and school != '' and i.hispanic is not null\n",
    "    GROUP BY i.year\n",
    "    ORDER BY total_hispanics) indiana\n",
    "INNER JOIN \n",
    "    (SELECT DISTINCT a.year, sum(a.hispanic) total_hispanics\n",
    "    FROM school_enrollments.ar a\n",
    "    WHERE grade = 'k_12_total' and school != '' and a.hispanic is not null\n",
    "    GROUP BY a.year\n",
    "    ORDER BY total_hispanics) arizona\n",
    "ON indiana.year = arizona.year\n",
    "ORDER BY year asc"
   ]
  },
  {
   "cell_type": "markdown",
   "metadata": {},
   "source": [
    "#### 9) This query calculates the total number of students per grade in all of Washington and Wyoming seperately, and then joins the results to one table and then we calculate the sum at each grade to see what grades have the highest population count."
   ]
  },
  {
   "cell_type": "code",
   "execution_count": null,
   "metadata": {},
   "outputs": [],
   "source": [
    "%%bigquery\n",
    "SELECT wash.grade Grade, wash.total Washington_total, wyo.total Wyoming_total, (wash.total+wyo.total) Total_students\n",
    "FROM\n",
    "  (SELECT grade, ifnull(sum(total),0) Total\n",
    "  FROM school_enrollments.wa w\n",
    "  GROUP BY grade\n",
    "  HAVING (grade != 'pk_12_total') and (grade != 'adult' ) and (grade != 'kindergarten_half_day')) wash\n",
    "FULL OUTER JOIN\n",
    "  (SELECT grade, ifnull(sum(total),0) Total\n",
    "  FROM school_enrollments.wy wy\n",
    "  GROUP BY grade\n",
    "  HAVING (grade != 'k_12_total') and (grade != 'adult' )) wyo\n",
    "ON wash.grade = wyo.grade\n",
    "WHERE wash.grade is not null and wyo.grade is not null\n",
    "ORDER BY Total_students desc"
   ]
  },
  {
   "cell_type": "markdown",
   "metadata": {},
   "source": [
    "#### 10) This query groups all of the grades in the data set in the state of California, and sums the number of Pacific Islanders per grade in the state."
   ]
  },
  {
   "cell_type": "code",
   "execution_count": null,
   "metadata": {},
   "outputs": [],
   "source": [
    "%%bigquery\n",
    "SELECT \n",
    "    grade,sum(native_hawaiian_pacific_islander) Pacific_Islander_Students\n",
    "FROM \n",
    "    school_enrollments.ca c\n",
    "GROUP BY\n",
    "    grade\n",
    "Having \n",
    "    grade != 'combined_K' and grade != 'k_12_total'\n",
    "ORDER BY \n",
    "    Pacific_Islander_Students DESC;"
   ]
  }
 ],
 "metadata": {
  "environment": {
   "kernel": "python3",
   "name": "common-cpu.m110",
   "type": "gcloud",
   "uri": "gcr.io/deeplearning-platform-release/base-cpu:m110"
  },
  "kernelspec": {
   "display_name": "Python 3",
   "language": "python",
   "name": "python3"
  },
  "language_info": {
   "codemirror_mode": {
    "name": "ipython",
    "version": 3
   },
   "file_extension": ".py",
   "mimetype": "text/x-python",
   "name": "python",
   "nbconvert_exporter": "python",
   "pygments_lexer": "ipython3",
   "version": "3.10.12"
  }
 },
 "nbformat": 4,
 "nbformat_minor": 4
}
