{
 "cells": [
  {
   "cell_type": "code",
   "execution_count": 1,
   "id": "fee875b1-c749-4192-8db6-5f2cf0df67c5",
   "metadata": {},
   "outputs": [
    {
     "name": "stdout",
     "output_type": "stream",
     "text": [
      "env: INSTANCE=mysql\n"
     ]
    }
   ],
   "source": [
    "#create new MySQL instance\n",
    "%env INSTANCE=mysql"
   ]
  },
  {
   "cell_type": "code",
   "execution_count": 2,
   "id": "732d29e6-f864-4d16-86b0-24fda96c91fb",
   "metadata": {},
   "outputs": [],
   "source": [
    "!mysql < /home/jupyter/sakila/sakila-database.sql"
   ]
  },
  {
   "cell_type": "code",
   "execution_count": 3,
   "id": "8dad6d18-2b2f-4069-94b8-44529c771986",
   "metadata": {},
   "outputs": [],
   "source": [
    "!mysql < /home/jupyter/sakila/sakila-data.sql"
   ]
  },
  {
   "cell_type": "code",
   "execution_count": 4,
   "id": "10bb7c0f-6cb5-472f-97d5-bd046b43b3f1",
   "metadata": {},
   "outputs": [
    {
     "name": "stdout",
     "output_type": "stream",
     "text": [
      "+----------------------------+\n",
      "| Tables_in_sakila           |\n",
      "+----------------------------+\n",
      "| actor                      |\n",
      "| actor_info                 |\n",
      "| address                    |\n",
      "| category                   |\n",
      "| city                       |\n",
      "| country                    |\n",
      "| customer                   |\n",
      "| customer_list              |\n",
      "| film                       |\n",
      "| film_actor                 |\n",
      "| film_category              |\n",
      "| film_list                  |\n",
      "| film_text                  |\n",
      "| inventory                  |\n",
      "| language                   |\n",
      "| nicer_but_slower_film_list |\n",
      "| payment                    |\n",
      "| rental                     |\n",
      "| sales_by_film_category     |\n",
      "| sales_by_store             |\n",
      "| staff                      |\n",
      "| staff_list                 |\n",
      "| store                      |\n",
      "+----------------------------+\n"
     ]
    }
   ],
   "source": [
    "#Test to see if the database is populated\n",
    "!mysql sakila -e \"show tables\""
   ]
  },
  {
   "cell_type": "code",
   "execution_count": 5,
   "id": "a93680b3-9d1d-4512-8b11-b56019cf4e32",
   "metadata": {},
   "outputs": [
    {
     "name": "stdout",
     "output_type": "stream",
     "text": [
      "+----------+\n",
      "| count(*) |\n",
      "+----------+\n",
      "|      200 |\n",
      "+----------+\n"
     ]
    }
   ],
   "source": [
    "!mysql sakila -e \"select count(*) from actor\""
   ]
  },
  {
   "cell_type": "code",
   "execution_count": 6,
   "id": "c7f9dfe2-e780-4a5b-b32c-ad7127cd0ec8",
   "metadata": {},
   "outputs": [
    {
     "name": "stdout",
     "output_type": "stream",
     "text": [
      "+----------+\n",
      "| count(*) |\n",
      "+----------+\n",
      "|      603 |\n",
      "+----------+\n"
     ]
    }
   ],
   "source": [
    "!mysql sakila -e \"select count(*) from address\""
   ]
  },
  {
   "cell_type": "code",
   "execution_count": 7,
   "id": "b2729fea-d0f6-4aaa-b47e-6393431c58f9",
   "metadata": {},
   "outputs": [
    {
     "name": "stdout",
     "output_type": "stream",
     "text": [
      "+----------+\n",
      "| count(*) |\n",
      "+----------+\n",
      "|      600 |\n",
      "+----------+\n"
     ]
    }
   ],
   "source": [
    "!mysql sakila -e \"select count(*) from city\""
   ]
  },
  {
   "cell_type": "code",
   "execution_count": 8,
   "id": "54a6557e-9833-4b31-af23-d799d8dc88d1",
   "metadata": {},
   "outputs": [
    {
     "name": "stdout",
     "output_type": "stream",
     "text": [
      "+----------+\n",
      "| count(*) |\n",
      "+----------+\n",
      "|      109 |\n",
      "+----------+\n"
     ]
    }
   ],
   "source": [
    "!mysql sakila -e \"select count(*) from country\""
   ]
  },
  {
   "cell_type": "code",
   "execution_count": 9,
   "id": "79932295-4cb3-4aad-8f7e-b25640e2d84f",
   "metadata": {},
   "outputs": [
    {
     "name": "stdout",
     "output_type": "stream",
     "text": [
      "+----------+\n",
      "| count(*) |\n",
      "+----------+\n",
      "|      599 |\n",
      "+----------+\n"
     ]
    }
   ],
   "source": [
    "!mysql sakila -e \"select count(*) from customer\""
   ]
  },
  {
   "cell_type": "code",
   "execution_count": 10,
   "id": "239af26d-d251-453e-bb21-d9c7fe33fdce",
   "metadata": {},
   "outputs": [
    {
     "name": "stdout",
     "output_type": "stream",
     "text": [
      "+----------+------------+-----------+---------------------+\n",
      "| actor_id | first_name | last_name | last_update         |\n",
      "+----------+------------+-----------+---------------------+\n",
      "|        1 | PENELOPE   | GUINESS   | 2006-02-15 04:34:33 |\n",
      "|        2 | NICK       | WAHLBERG  | 2006-02-15 04:34:33 |\n",
      "|        3 | ED         | CHASE     | 2006-02-15 04:34:33 |\n",
      "+----------+------------+-----------+---------------------+\n"
     ]
    }
   ],
   "source": [
    "!mysql sakila -e \"select * from actor limit 3\""
   ]
  },
  {
   "cell_type": "code",
   "execution_count": 11,
   "id": "bf91cc36-eb8a-4e80-a819-95a8d25b6c0d",
   "metadata": {},
   "outputs": [
    {
     "name": "stdout",
     "output_type": "stream",
     "text": [
      "+------------+--------------------+----------+----------+---------+-------------+-------------+---------------------------+---------------------+\n",
      "| address_id | address            | address2 | district | city_id | postal_code | phone       | location                  | last_update         |\n",
      "+------------+--------------------+----------+----------+---------+-------------+-------------+---------------------------+---------------------+\n",
      "|          1 | 47 MySakila Drive  | NULL     | Alberta  |     300 |             |             |     \u0001\u0001   >\n",
      "2]c4\\�v\u001fۍ��H@     | 2014-09-25 22:30:27 |\n",
      "|          2 | 28 MySQL Boulevard | NULL     | QLD      |     576 |             |             |     \u0001\u0001   �\u0010�߁$c@N��P\"�;�        | 2014-09-25 22:30:09 |\n",
      "|          3 | 23 Workhaven Lane  | NULL     | Alberta  |     300 |             | 14033335568 |     \u0001\u0001   ��\u0019hc4\\�\u001d",
      "�~p��H@       | 2014-09-25 22:30:27 |\n",
      "+------------+--------------------+----------+----------+---------+-------------+-------------+---------------------------+---------------------+\n"
     ]
    }
   ],
   "source": [
    "!mysql sakila -e \"select * from address limit 3\""
   ]
  },
  {
   "cell_type": "code",
   "execution_count": 12,
   "id": "ac2c8055-965c-4ec0-a66b-929fe862b51d",
   "metadata": {},
   "outputs": [
    {
     "name": "stdout",
     "output_type": "stream",
     "text": [
      "+---------+--------------------+------------+---------------------+\n",
      "| city_id | city               | country_id | last_update         |\n",
      "+---------+--------------------+------------+---------------------+\n",
      "|       1 | A Corua (La Corua) |         87 | 2006-02-15 04:45:25 |\n",
      "|       2 | Abha               |         82 | 2006-02-15 04:45:25 |\n",
      "|       3 | Abu Dhabi          |        101 | 2006-02-15 04:45:25 |\n",
      "+---------+--------------------+------------+---------------------+\n"
     ]
    }
   ],
   "source": [
    "!mysql sakila -e \"select * from city limit 3\""
   ]
  },
  {
   "cell_type": "code",
   "execution_count": 13,
   "id": "d2eed7f5-204c-48f8-b273-8a804db83787",
   "metadata": {},
   "outputs": [
    {
     "name": "stdout",
     "output_type": "stream",
     "text": [
      "+------------+----------------+---------------------+\n",
      "| country_id | country        | last_update         |\n",
      "+------------+----------------+---------------------+\n",
      "|          1 | Afghanistan    | 2006-02-15 04:44:00 |\n",
      "|          2 | Algeria        | 2006-02-15 04:44:00 |\n",
      "|          3 | American Samoa | 2006-02-15 04:44:00 |\n",
      "+------------+----------------+---------------------+\n"
     ]
    }
   ],
   "source": [
    "!mysql sakila -e \"select * from country limit 3\""
   ]
  },
  {
   "cell_type": "code",
   "execution_count": 14,
   "id": "e34076f0-7968-49e0-b19c-c563a9b48ac1",
   "metadata": {},
   "outputs": [
    {
     "name": "stdout",
     "output_type": "stream",
     "text": [
      "+-------------+----------+------------+-----------+-------------------------------------+------------+--------+---------------------+---------------------+\n",
      "| customer_id | store_id | first_name | last_name | email                               | address_id | active | create_date         | last_update         |\n",
      "+-------------+----------+------------+-----------+-------------------------------------+------------+--------+---------------------+---------------------+\n",
      "|           1 |        1 | MARY       | SMITH     | MARY.SMITH@sakilacustomer.org       |          5 |      1 | 2006-02-14 22:04:36 | 2006-02-15 04:57:20 |\n",
      "|           2 |        1 | PATRICIA   | JOHNSON   | PATRICIA.JOHNSON@sakilacustomer.org |          6 |      1 | 2006-02-14 22:04:36 | 2006-02-15 04:57:20 |\n",
      "|           3 |        1 | LINDA      | WILLIAMS  | LINDA.WILLIAMS@sakilacustomer.org   |          7 |      1 | 2006-02-14 22:04:36 | 2006-02-15 04:57:20 |\n",
      "+-------------+----------+------------+-----------+-------------------------------------+------------+--------+---------------------+---------------------+\n"
     ]
    }
   ],
   "source": [
    "!mysql sakila -e \"select * from customer limit 3\""
   ]
  },
  {
   "cell_type": "code",
   "execution_count": 15,
   "id": "dbd4a82b-50dd-495a-a5c7-833124ac6fab",
   "metadata": {},
   "outputs": [
    {
     "name": "stdout",
     "output_type": "stream",
     "text": [
      "+-------------+-------------------+------+-----+-------------------+-----------------------------------------------+\n",
      "| Field       | Type              | Null | Key | Default           | Extra                                         |\n",
      "+-------------+-------------------+------+-----+-------------------+-----------------------------------------------+\n",
      "| actor_id    | smallint unsigned | NO   | PRI | NULL              | auto_increment                                |\n",
      "| first_name  | varchar(45)       | NO   |     | NULL              |                                               |\n",
      "| last_name   | varchar(45)       | NO   | MUL | NULL              |                                               |\n",
      "| last_update | timestamp         | NO   |     | CURRENT_TIMESTAMP | DEFAULT_GENERATED on update CURRENT_TIMESTAMP |\n",
      "+-------------+-------------------+------+-----+-------------------+-----------------------------------------------+\n"
     ]
    }
   ],
   "source": [
    "#Test to show actor Table\n",
    "!mysql sakila -e \"desc actor\""
   ]
  },
  {
   "cell_type": "code",
   "execution_count": 16,
   "id": "02fa06e4-79ec-4238-9629-dffd5be00d47",
   "metadata": {},
   "outputs": [
    {
     "name": "stdout",
     "output_type": "stream",
     "text": [
      "+-----------+------------+----------+\n",
      "| last_name | first_name | actor_id |\n",
      "+-----------+------------+----------+\n",
      "| CRONYN    | PENELOPE   |      104 |\n",
      "| GUINESS   | PENELOPE   |        1 |\n",
      "| MONROE    | PENELOPE   |      120 |\n",
      "| PINKETT   | PENELOPE   |       54 |\n",
      "+-----------+------------+----------+\n"
     ]
    }
   ],
   "source": [
    "# Select the names and id columns of actors whose first names are Penelope, and order the result set in \n",
    "# descending alphabetical order of last names\n",
    "!mysql sakila -e \"select last_name,first_name,actor_id from actor where first_name = 'Penelope' order by last_name\""
   ]
  },
  {
   "cell_type": "code",
   "execution_count": 17,
   "id": "56b57963-1a93-4d1b-8408-1c906184ec88",
   "metadata": {
    "tags": []
   },
   "outputs": [],
   "source": [
    "# Insert a new record that adds the actor Juan Chavarria into the actor table, with a timestamp of the \n",
    "# time when the actor was inserted at the table (current_timestamp)\n",
    "!mysql sakila -e \"insert into actor (actor_id, first_name, last_name, last_update) values (null, 'JUAN','CHAVARRIA',current_timestamp)\""
   ]
  },
  {
   "cell_type": "code",
   "execution_count": 18,
   "id": "bcb76aa5-e1dd-4544-bc9e-c908b24555e2",
   "metadata": {},
   "outputs": [
    {
     "name": "stdout",
     "output_type": "stream",
     "text": [
      "+----------+------------+-----------+---------------------+\n",
      "| actor_id | first_name | last_name | last_update         |\n",
      "+----------+------------+-----------+---------------------+\n",
      "|      201 | JUAN       | CHAVARRIA | 2023-09-07 01:51:06 |\n",
      "+----------+------------+-----------+---------------------+\n"
     ]
    }
   ],
   "source": [
    "# Show the newly inserted record \n",
    "!mysql sakila -e \"select * from actor where last_name = 'CHAVARRIA'\""
   ]
  },
  {
   "cell_type": "code",
   "execution_count": 19,
   "id": "1347cced-d06a-4283-be9e-da4c5d0148a4",
   "metadata": {},
   "outputs": [],
   "source": [
    "# Update the values of the newly inserted record by changing the actor's name to Alex Garza\n",
    "# and changing the timestamp to the time when the record was updated\n",
    "!mysql sakila -e \"update actor set first_name = 'ALEX', last_name = 'GARZA', last_update = current_timestamp where actor_id = 201\""
   ]
  },
  {
   "cell_type": "code",
   "execution_count": 20,
   "id": "9f5ecb48-e961-42d9-a3b1-e8d46b7fccf6",
   "metadata": {},
   "outputs": [
    {
     "name": "stdout",
     "output_type": "stream",
     "text": [
      "+----------+------------+-----------+---------------------+\n",
      "| actor_id | first_name | last_name | last_update         |\n",
      "+----------+------------+-----------+---------------------+\n",
      "|      201 | ALEX       | GARZA     | 2023-09-07 01:51:06 |\n",
      "+----------+------------+-----------+---------------------+\n"
     ]
    }
   ],
   "source": [
    "# Show the newly udpated record\n",
    "!mysql sakila -e \"select * from actor where actor_id = 201\""
   ]
  },
  {
   "cell_type": "code",
   "execution_count": 21,
   "id": "175f4b6e-ab9b-4b9d-84f2-a28b7ddd9711",
   "metadata": {},
   "outputs": [],
   "source": [
    "# The actor 201 record (the line we originally inserted) is then deleted from the table\n",
    "!mysql sakila -e \"delete from actor where actor_id = 201\""
   ]
  },
  {
   "cell_type": "code",
   "execution_count": 22,
   "id": "a0abad5b-bc33-4b93-8e99-9e4f51b9d42c",
   "metadata": {},
   "outputs": [],
   "source": [
    "# Request the record with an actor ID of 201. Since nothing is returned, we know we have deleted the record.\n",
    "!mysql sakila -e \"select * from actor where actor_id = 201\""
   ]
  }
 ],
 "metadata": {
  "environment": {
   "kernel": "python3",
   "name": "common-cpu.m110",
   "type": "gcloud",
   "uri": "gcr.io/deeplearning-platform-release/base-cpu:m110"
  },
  "kernelspec": {
   "display_name": "Python 3",
   "language": "python",
   "name": "python3"
  },
  "language_info": {
   "codemirror_mode": {
    "name": "ipython",
    "version": 3
   },
   "file_extension": ".py",
   "mimetype": "text/x-python",
   "name": "python",
   "nbconvert_exporter": "python",
   "pygments_lexer": "ipython3",
   "version": "3.10.12"
  }
 },
 "nbformat": 4,
 "nbformat_minor": 5
}
