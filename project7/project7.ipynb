{
 "cells": [
  {
   "cell_type": "code",
   "execution_count": 1,
   "id": "573fb58c-4572-4836-b354-1e6c7f6c2930",
   "metadata": {},
   "outputs": [
    {
     "name": "stdout",
     "output_type": "stream",
     "text": [
      "env: CYPHER=/usr/bin/cypher-shell\n",
      "env: HOST=neo4j+s://7399f139.databases.neo4j.io\n",
      "env: USER=neo4j\n",
      "env: PW=til3M9ZugdlqvLGYo9G7VgPYyRyzEzZAoAsY0IcdTxY\n"
     ]
    }
   ],
   "source": [
    "%env CYPHER=/usr/bin/cypher-shell\n",
    "%env HOST=neo4j+s://7399f139.databases.neo4j.io\n",
    "%env USER=neo4j\n",
    "%env PW=til3M9ZugdlqvLGYo9G7VgPYyRyzEzZAoAsY0IcdTxY"
   ]
  },
  {
   "cell_type": "code",
   "execution_count": 2,
   "id": "240447e2-97be-4c1b-9a46-0195f8e24d66",
   "metadata": {},
   "outputs": [],
   "source": [
    "CONNECT=\"$CYPHER -a $HOST -u $USER -p $PW\""
   ]
  },
  {
   "cell_type": "code",
   "execution_count": 3,
   "id": "1d3298a5-1238-4ea6-9195-cbb8377695df",
   "metadata": {},
   "outputs": [],
   "source": [
    "from IPython.core.magic import register_cell_magic\n",
    "import shlex\n",
    "\n",
    "@register_cell_magic('neo')\n",
    "def neo(line, cell):\n",
    "    !{CONNECT} {shlex.quote(cell)}"
   ]
  },
  {
   "cell_type": "markdown",
   "id": "5794668e-b7ef-470e-9877-803ff456451a",
   "metadata": {},
   "source": [
    "### Begin Project 7 Work"
   ]
  },
  {
   "cell_type": "markdown",
   "id": "98f333ce-e1c8-4a69-9c2d-9d36662eea16",
   "metadata": {},
   "source": [
    "#### Query 1) Find all the node labels and return each label's count"
   ]
  },
  {
   "cell_type": "code",
   "execution_count": 4,
   "id": "86276f3a-155b-4750-82eb-3be53781900a",
   "metadata": {},
   "outputs": [
    {
     "name": "stdout",
     "output_type": "stream",
     "text": [
      "+---------------------------+\n",
      "| labels(n)      | count(n) |\n",
      "+---------------------------+\n",
      "| [\"Recipe\"]     | 11634    |\n",
      "| [\"Author\"]     | 303      |\n",
      "| [\"Ingredient\"] | 3077     |\n",
      "| [\"Collection\"] | 1049     |\n",
      "| [\"DietType\"]   | 12       |\n",
      "+---------------------------+\n",
      "\n",
      "5 rows\n",
      "ready to start consuming query after 53 ms, results consumed after another 61 ms\n"
     ]
    }
   ],
   "source": [
    "%%neo\n",
    "MATCH (n) RETURN distinct labels(n),count(n)"
   ]
  },
  {
   "cell_type": "markdown",
   "id": "7134d598-02d5-4c7f-b7bd-602e790e1f1f",
   "metadata": {},
   "source": [
    "#### Query 2) Find all the relationship types and return their count"
   ]
  },
  {
   "cell_type": "code",
   "execution_count": 5,
   "id": "7701e54b-f75d-48de-8640-0f029b046069",
   "metadata": {},
   "outputs": [
    {
     "name": "stdout",
     "output_type": "stream",
     "text": [
      "+----------------------------------+\n",
      "| type(r)               | count(r) |\n",
      "+----------------------------------+\n",
      "| \"WROTE\"               | 11634    |\n",
      "| \"CONTAINS_INGREDIENT\" | 106148   |\n",
      "| \"COLLECTION\"          | 32240    |\n",
      "| \"DIET_TYPE\"           | 14858    |\n",
      "+----------------------------------+\n",
      "\n",
      "4 rows\n",
      "ready to start consuming query after 49 ms, results consumed after another 75 ms\n"
     ]
    }
   ],
   "source": [
    "%%neo\n",
    "MATCH ()-[r]->() RETURN distinct type(r), count(r)"
   ]
  },
  {
   "cell_type": "markdown",
   "id": "3cf02d4d-4078-4da5-8ebd-95d736983a75",
   "metadata": {},
   "source": [
    "#### Query 3) Find recipes with the diet type Low-salt and written by Orlando Murring"
   ]
  },
  {
   "cell_type": "code",
   "execution_count": 6,
   "id": "0ba469d6-1dde-4c2a-a67e-36a859ff5dda",
   "metadata": {
    "tags": []
   },
   "outputs": [
    {
     "name": "stdout",
     "output_type": "stream",
     "text": [
      "+--------------------------------------------------------------------------------------+\n",
      "| a.name           | r.name                                            | r.cookingTime |\n",
      "+--------------------------------------------------------------------------------------+\n",
      "| \"Orlando Murrin\" | \"Classic Christmas pudding\"                       | 28800         |\n",
      "| \"Orlando Murrin\" | \"Seven-hour lamb\"                                 | 27000         |\n",
      "| \"Orlando Murrin\" | \"Braised shoulder of lamb with jewelled stuffing\" | 12600         |\n",
      "| \"Orlando Murrin\" | \"Orlando Murrin's Deluxe Christmas Cake\"          | 9000          |\n",
      "| \"Orlando Murrin\" | \"Roast lamb with avgolemono sauce\"                | 6300          |\n",
      "| \"Orlando Murrin\" | \"Strawberry & cinnamon torte\"                     | 5400          |\n",
      "| \"Orlando Murrin\" | \"Potatoes Dauphinoise\"                            | 4500          |\n",
      "| \"Orlando Murrin\" | \"Buttery roast thyme potatoes\"                    | 4500          |\n",
      "| \"Orlando Murrin\" | \"Stoved potatoes\"                                 | 1800          |\n",
      "| \"Orlando Murrin\" | \"Pears in Gaillac doux\"                           | 1800          |\n",
      "+--------------------------------------------------------------------------------------+\n",
      "\n",
      "10 rows\n",
      "ready to start consuming query after 169 ms, results consumed after another 164 ms\n"
     ]
    }
   ],
   "source": [
    "%%neo\n",
    "MATCH (a:Author)-[w:WROTE]->(r:Recipe),\n",
    "(r:Recipe)-[:DIET_TYPE]->(t:DietType)\n",
    "WHERE t.name = \"Low-salt\" and a.name = \"Orlando Murrin\"\n",
    "RETURN a.name,r.name, r.cookingTime \n",
    "ORDER BY r.cookingTime desc \n",
    "limit 10"
   ]
  },
  {
   "cell_type": "code",
   "execution_count": 7,
   "id": "9fd06d7d-2a08-42e4-b229-c60eacf7f825",
   "metadata": {
    "tags": []
   },
   "outputs": [],
   "source": [
    "# %%neo\n",
    "# MATCH (m:Recipe)-[:DIET_TYPE]->(t:DietType) WHERE t.name = \"Low-salt\" WITH collect(m) as recipes\n",
    "# MATCH (a:Author)-[w:WROTE]->(r:Recipe) where r in recipes RETURN r.name, r.cookingTime ORDER BY r.cookingTime desc limit 5"
   ]
  },
  {
   "cell_type": "markdown",
   "id": "6de3ec2b-1090-44aa-b9a1-e28468eb5915",
   "metadata": {},
   "source": [
    "#### Query 4) Find the recipes pointing to collection quick chicken or has olive oil as an ingredient"
   ]
  },
  {
   "cell_type": "code",
   "execution_count": 8,
   "id": "8e55d9e4-a590-479f-b9b2-a245d64c6db8",
   "metadata": {
    "tags": []
   },
   "outputs": [
    {
     "name": "stdout",
     "output_type": "stream",
     "text": [
      "+-----------------------------------------------+\n",
      "| r.name                                        |\n",
      "+-----------------------------------------------+\n",
      "| \"10-minute tortellini\"                        |\n",
      "| \"10-minute tuna-bean toasts\"                  |\n",
      "| \"15-minute chicken pasta\"                     |\n",
      "| \"15-minute mix & match salad\"                 |\n",
      "| \"20-minute beef in red wine\"                  |\n",
      "| \"20-minute pork pan-fry\"                      |\n",
      "| \"30 minute chicken & tarragon pasta\"          |\n",
      "| \"5 easy pizza toppings\"                       |\n",
      "| \"5-a-day chicken with kale & pistachio pesto\" |\n",
      "| \"5-a-day couscous\"                            |\n",
      "+-----------------------------------------------+\n",
      "\n",
      "10 rows\n",
      "ready to start consuming query after 137 ms, results consumed after another 142 ms\n"
     ]
    }
   ],
   "source": [
    "%%neo\n",
    "MATCH (r:Recipe)-[:COLLECTION]->(c:Collection),\n",
    "(r:Recipe)-[:CONTAINS_INGREDIENT]->(i:Ingredient)\n",
    "WHERE c.name= \"Quick chicken\" OR i.name = \"olive oil\"\n",
    "RETURN distinct r.name \n",
    "order by r.name asc \n",
    "limit 10"
   ]
  },
  {
   "cell_type": "markdown",
   "id": "45ac4cd5-d100-4466-9ffa-5a594039ab1d",
   "metadata": {},
   "source": [
    "#### Query 5) Find recipes without couscous and that aren't vegetarian"
   ]
  },
  {
   "cell_type": "code",
   "execution_count": 9,
   "id": "9ddeaf12-4c13-4e47-bc7f-709344e0e4ef",
   "metadata": {},
   "outputs": [
    {
     "name": "stdout",
     "output_type": "stream",
     "text": [
      "+-------------------------------------------------------------------------------------------------+\n",
      "| r.name                                                                  | Number_of_Ingredients |\n",
      "+-------------------------------------------------------------------------------------------------+\n",
      "| \"BBC Children in Need cupcakes\"                                         | 36                    |\n",
      "| \"Sri Lankan braised roots stew & coconut dhal dumplings\"                | 32                    |\n",
      "| \"Creamy risotto layer cake\"                                             | 30                    |\n",
      "| \"Veggie spiral pie with spiced tomato sauce & chopped salad\"            | 29                    |\n",
      "| \"Persian pilaf & roasted root loaves\"                                   | 28                    |\n",
      "| \"For-the-freezer ratatouille\"                                           | 28                    |\n",
      "| \"Kentucky fried seitan\"                                                 | 28                    |\n",
      "| \"Falafels with spicy tomato & cashew sauce & poached spring vegetables\" | 27                    |\n",
      "| \"Moroccan chickpea soup\"                                                | 24                    |\n",
      "| \"5-a-day burger\"                                                        | 24                    |\n",
      "+-------------------------------------------------------------------------------------------------+\n",
      "\n",
      "10 rows\n",
      "ready to start consuming query after 104 ms, results consumed after another 101 ms\n"
     ]
    }
   ],
   "source": [
    "%%neo\n",
    "MATCH (r:Recipe)-[:DIET_TYPE]->(d:DietType),\n",
    "(r:Recipe)-[:CONTAINS_INGREDIENT]->(i:Ingredient) \n",
    "WHERE i.name <> \"couscous\" and d.name = \"Vegetarian\" \n",
    "RETURN distinct r.name, count(r.name) as Number_of_Ingredients\n",
    "ORDER BY Number_of_Ingredients desc\n",
    "LIMIT 10"
   ]
  },
  {
   "cell_type": "markdown",
   "id": "98ca8d76-9e8d-448a-87e7-fda91d75fcdb",
   "metadata": {},
   "source": [
    "#### Query 6) Find recipes that aren't in the healthy diet type or that aren't in the Healthy christmas side dish collection"
   ]
  },
  {
   "cell_type": "code",
   "execution_count": 10,
   "id": "baf7d45c-7279-4fc8-b76e-b37d036d8dc4",
   "metadata": {},
   "outputs": [
    {
     "name": "stdout",
     "output_type": "stream",
     "text": [
      "^C\n"
     ]
    }
   ],
   "source": [
    "%%neo\n",
    "MATCH (n:Recipe)-[c1:COLLECTION]->(c:Collection),\n",
    "(n:Recipe)-[d1:DIET_TYPE]->(d:DietType)\n",
    "WHERE d.name <> \"Healthy\" or c.name <> \"Healthy Christmas side dish\"\n",
    "RETURN n.name as recipe, c.name as collectoin, d.name as diet,ID(c1) as coll_num\n",
    "limit 10"
   ]
  },
  {
   "cell_type": "markdown",
   "id": "9bcedbd3-633d-4415-84dc-84a556d21194",
   "metadata": {},
   "source": [
    "#### Query 7) Find the author, collections, and ingredients of the Boxing Day soup recipe"
   ]
  },
  {
   "cell_type": "code",
   "execution_count": 11,
   "id": "be621d09-9ac3-4b76-bd61-d3e2282a561a",
   "metadata": {},
   "outputs": [
    {
     "name": "stdout",
     "output_type": "stream",
     "text": [
      "+-----------------------------------------------------+\n",
      "| Author      | Collections       | Ingredients       |\n",
      "+-----------------------------------------------------+\n",
      "| \"Good Food\" | \"Leftover potato\" | \"curry paste\"     |\n",
      "| \"Good Food\" | \"Leftover potato\" | \"Brussels sprout\" |\n",
      "| \"Good Food\" | \"Leftover potato\" | \"onion\"           |\n",
      "| \"Good Food\" | \"Leftover potato\" | \"sunflower oil\"   |\n",
      "| \"Good Food\" | \"Leftover potato\" | \"potato\"          |\n",
      "| \"Good Food\" | \"Leftover potato\" | \"natural yogurt\"  |\n",
      "| \"Good Food\" | \"Leftover potato\" | \"vegetable stock\" |\n",
      "| \"Good Food\" | \"Leftover potato\" | \"celery\"          |\n",
      "| \"Good Food\" | \"Boxing Day\"      | \"curry paste\"     |\n",
      "| \"Good Food\" | \"Boxing Day\"      | \"Brussels sprout\" |\n",
      "+-----------------------------------------------------+\n",
      "\n",
      "10 rows\n",
      "ready to start consuming query after 128 ms, results consumed after another 8 ms\n"
     ]
    }
   ],
   "source": [
    "%%neo\n",
    "MATCH (r:Recipe)-[c:COLLECTION]->(c1:Collection),\n",
    "(r:Recipe)-[ci:CONTAINS_INGREDIENT]->(ci1:Ingredient),\n",
    "(a:Author)-[w:WROTE]->(r:Recipe)\n",
    "WHERE r.name = \"Boxing Day soup\"\n",
    "RETURN distinct a.name as Author, c1.name as Collections, ci1.name as Ingredients\n",
    "LIMIT 10"
   ]
  },
  {
   "cell_type": "markdown",
   "id": "f417005e-3a22-4fc3-bd93-3b82faf57a16",
   "metadata": {},
   "source": [
    "#### Query 8) Find all the authors that reviewed a vegan recipe"
   ]
  },
  {
   "cell_type": "code",
   "execution_count": 12,
   "id": "f4286ab3-55bf-4dcd-83ae-181a82303d13",
   "metadata": {},
   "outputs": [
    {
     "name": "stdout",
     "output_type": "stream",
     "text": [
      "+--------------------+\n",
      "| Author             |\n",
      "+--------------------+\n",
      "| \"Zetter Townhouse\" |\n",
      "| \"Xanthe Clay\"      |\n",
      "| \"Vasco Goncalves\"  |\n",
      "| \"Tom Van Rooyen\"   |\n",
      "| \"Tom Kerridge\"     |\n",
      "| \"Tanya Maher\"      |\n",
      "| \"Sophie Godwin\"    |\n",
      "| \"Simon Richards\"   |\n",
      "| \"Silvana Franco\"   |\n",
      "| \"Sarah Cook\"       |\n",
      "+--------------------+\n",
      "\n",
      "10 rows\n",
      "ready to start consuming query after 83 ms, results consumed after another 12 ms\n"
     ]
    }
   ],
   "source": [
    "%%neo\n",
    "MATCH (a:Author)-[:WROTE]->(r:Recipe),\n",
    "(r:Recipe)-[:DIET_TYPE]->(d:DietType)\n",
    "WHERE d.name = \"Vegan\"\n",
    "RETURN distinct a.name as Author \n",
    "ORDER BY a.name desc\n",
    "LIMIT 10"
   ]
  },
  {
   "cell_type": "markdown",
   "id": "ef508328-bfad-4ff9-b943-e6823fd0028f",
   "metadata": {},
   "source": [
    "#### Query 9) Find the authors that wrote a recipe that is in the healthy diet type and also in the Healthy christmas side dish collection"
   ]
  },
  {
   "cell_type": "code",
   "execution_count": 13,
   "id": "3727f1a5-421c-44e5-8cd1-a46468f848d0",
   "metadata": {},
   "outputs": [
    {
     "name": "stdout",
     "output_type": "stream",
     "text": [
      "+-----------------+\n",
      "| Authors         |\n",
      "+-----------------+\n",
      "| \"Cathryn Evans\" |\n",
      "| \"Gary Rhodes\"   |\n",
      "| \"Good Food\"     |\n",
      "| \"Sarah Cook\"    |\n",
      "| \"Elena Silcock\" |\n",
      "| \"John Torode\"   |\n",
      "| \"Jenny White\"   |\n",
      "| \"Sophie Godwin\" |\n",
      "| \"James Martin\"  |\n",
      "| \"Katy Gilhooly\" |\n",
      "+-----------------+\n",
      "\n",
      "10 rows\n",
      "ready to start consuming query after 115 ms, results consumed after another 16 ms\n"
     ]
    }
   ],
   "source": [
    "%%neo\n",
    "MATCH (a:Author)-[:WROTE]->(r:Recipe),\n",
    "(r:Recipe)-[:DIET_TYPE]->(d:DietType),\n",
    "(r:Recipe)-[:COLLECTION]->(c:Collection)\n",
    "WHERE d.name = \"Healthy\" and c.name = \"Healthy Christmas side dish\"\n",
    "RETURN distinct a.name as Authors\n",
    "LIMIT 10\n"
   ]
  },
  {
   "cell_type": "markdown",
   "id": "0469348a-fbaa-4bdb-9697-9239ab765778",
   "metadata": {},
   "source": [
    "#### Query 10) Find the author, diet_types and collections of the Ultimate onion tart recipe"
   ]
  },
  {
   "cell_type": "code",
   "execution_count": 14,
   "id": "6b55f78f-1267-4001-9357-9207d35b04ca",
   "metadata": {},
   "outputs": [
    {
     "name": "stdout",
     "output_type": "stream",
     "text": [
      "+-----------------------------------------+\n",
      "| Author      | Diet_Type    | Collection |\n",
      "+-----------------------------------------+\n",
      "| \"Good Food\" | \"Low-salt\"   | \"Ultimate\" |\n",
      "| \"Good Food\" | \"Low-salt\"   | \"Quiche\"   |\n",
      "| \"Good Food\" | \"Vegetarian\" | \"Ultimate\" |\n",
      "| \"Good Food\" | \"Vegetarian\" | \"Quiche\"   |\n",
      "+-----------------------------------------+\n",
      "\n",
      "4 rows\n",
      "ready to start consuming query after 108 ms, results consumed after another 17 ms\n"
     ]
    }
   ],
   "source": [
    "%%neo\n",
    "MATCH (r:Recipe)-[c:COLLECTION]->(c1:Collection),\n",
    "(r:Recipe)-[d:DIET_TYPE]->(d1:DietType),\n",
    "(a:Author)-[w:WROTE]->(r:Recipe)\n",
    "WHERE r.name = \"Ultimate onion tart\"\n",
    "RETURN distinct a.name as Author, d1.name as Diet_Type, c1.name as Collection"
   ]
  },
  {
   "cell_type": "markdown",
   "id": "64010f03-e82c-45c8-959b-e49e77386e29",
   "metadata": {},
   "source": [
    "#### Extra Credit Work"
   ]
  },
  {
   "cell_type": "markdown",
   "id": "11946c72-83d0-4261-8399-873c11266455",
   "metadata": {},
   "source": [
    "#### Create a new node for each existing node label with at least one property"
   ]
  },
  {
   "cell_type": "code",
   "execution_count": 27,
   "id": "2d365026-74d5-43b4-a14e-c4e574e83886",
   "metadata": {},
   "outputs": [
    {
     "name": "stdout",
     "output_type": "stream",
     "text": [
      "0 rows\n",
      "ready to start consuming query after 242 ms, results consumed after another 0 ms\n",
      "Created 2 relationships, Set 2 properties\n"
     ]
    }
   ],
   "source": [
    "%%neo\n",
    "// Using \"Tom Kerridge\" as an example:\n",
    "MATCH (a:Author {name: 'Tom Kerridge'}), (r:Recipe {name: 'New Recipe'})\n",
    "MERGE (a)-[:WROTE {date: '2023-11-02'}]->(r)\n"
   ]
  },
  {
   "cell_type": "markdown",
   "id": "27f833f3-8ae1-416e-a23f-7df7c8b5b356",
   "metadata": {},
   "source": [
    "#### Create a relationship for each existing relationship type with at least one propert"
   ]
  },
  {
   "cell_type": "code",
   "execution_count": 28,
   "id": "100ec743-ed85-4b0c-b7e5-cd1e145be155",
   "metadata": {},
   "outputs": [
    {
     "name": "stdout",
     "output_type": "stream",
     "text": [
      "0 rows\n",
      "ready to start consuming query after 56 ms, results consumed after another 0 ms\n",
      "Set 1 properties\n"
     ]
    }
   ],
   "source": [
    "%%neo\n",
    "// Add a birthdate property to \"Tom Kerridge\" as an example\n",
    "MATCH (a:Author {name: 'Tom Kerridge'})\n",
    "SET a.birthdate = '1973-07-27'\n"
   ]
  },
  {
   "cell_type": "markdown",
   "id": "bf3011ca-9fba-424e-a766-9aa55bf4609a",
   "metadata": {},
   "source": [
    "#### Update the properties of one or more nodes"
   ]
  },
  {
   "cell_type": "code",
   "execution_count": 29,
   "id": "c6b1911a-4c8a-4659-90cb-3c3ff26d6865",
   "metadata": {},
   "outputs": [
    {
     "name": "stdout",
     "output_type": "stream",
     "text": [
      "0 rows\n",
      "ready to start consuming query after 16 ms, results consumed after another 0 ms\n",
      "Set 1 properties\n"
     ]
    }
   ],
   "source": [
    "%%neo\n",
    "// Add a birthdate property to \"Tom Kerridge\" as an example\n",
    "MATCH (a:Author {name: 'Tom Kerridge'})\n",
    "SET a.birthdate = '1973-07-27'\n"
   ]
  },
  {
   "cell_type": "markdown",
   "id": "ec23ef3f-1411-4479-981b-58e3768a1c66",
   "metadata": {},
   "source": [
    "#### Update the properties of one or more relationships"
   ]
  },
  {
   "cell_type": "code",
   "execution_count": 30,
   "id": "8de35d8f-22d1-4a1b-86ec-20af866cf138",
   "metadata": {},
   "outputs": [
    {
     "name": "stdout",
     "output_type": "stream",
     "text": [
      "0 rows\n",
      "ready to start consuming query after 66 ms, results consumed after another 0 ms\n",
      "Set 2 properties\n"
     ]
    }
   ],
   "source": [
    "%%neo\n",
    "// Using \"Tom Kerridge\" as an example to update the WROTE relationship:\n",
    "MATCH (a:Author {name: 'Tom Kerridge'})-[w:WROTE]->(r:Recipe {name: 'New Recipe'})\n",
    "SET w.date = '2023-11-03'\n"
   ]
  },
  {
   "cell_type": "markdown",
   "id": "3af03572-a167-431d-b8b9-d6047b7eb2f1",
   "metadata": {},
   "source": [
    "#### Add a new node label to an existing node"
   ]
  },
  {
   "cell_type": "code",
   "execution_count": 31,
   "id": "6c3a21fa-4d85-407e-ba2d-a1a5cbc158fa",
   "metadata": {},
   "outputs": [
    {
     "name": "stdout",
     "output_type": "stream",
     "text": [
      "0 rows\n",
      "ready to start consuming query after 55 ms, results consumed after another 0 ms\n",
      "Added 1 labels\n"
     ]
    }
   ],
   "source": [
    "%%neo\n",
    "// Add a label CelebrityChef to \"Tom Kerridge\"\n",
    "MATCH (a:Author {name: 'Tom Kerridge'})\n",
    "SET a:CelebrityChef\n"
   ]
  },
  {
   "cell_type": "markdown",
   "id": "7fade1c4-ea8d-493c-ada7-93b61117015a",
   "metadata": {},
   "source": [
    "#### Update the relationship type of at least one relationship"
   ]
  },
  {
   "cell_type": "code",
   "execution_count": 32,
   "id": "77259c3b-cac8-49a8-8c0b-64a3dbf81881",
   "metadata": {},
   "outputs": [
    {
     "name": "stdout",
     "output_type": "stream",
     "text": [
      "0 rows\n",
      "ready to start consuming query after 105 ms, results consumed after another 0 ms\n",
      "Created 2 relationships, Deleted 2 relationships, Set 2 properties\n"
     ]
    }
   ],
   "source": [
    "%%neo\n",
    "// Replace WROTE relationship of \"Tom Kerridge\" with AUTHORED\n",
    "MATCH (a:Author {name: 'Tom Kerridge'})-[w:WROTE]->(r:Recipe {name: 'New Recipe'})\n",
    "CREATE (a)-[:AUTHORED {date: w.date}]->(r)\n",
    "DELETE w\n"
   ]
  },
  {
   "cell_type": "markdown",
   "id": "9a185553-5eca-47d6-88b9-6ebebf592adc",
   "metadata": {},
   "source": [
    "#### Delete at least one relationship based on some criteria"
   ]
  },
  {
   "cell_type": "code",
   "execution_count": 33,
   "id": "14708a7e-49c8-4c5a-ae98-633ccf75f0cb",
   "metadata": {},
   "outputs": [
    {
     "name": "stdout",
     "output_type": "stream",
     "text": [
      "0 rows\n",
      "ready to start consuming query after 74 ms, results consumed after another 0 ms\n",
      "Deleted 1 relationships\n"
     ]
    }
   ],
   "source": [
    "%%neo\n",
    "// Delete all WROTE relationships for \"Zetter Townhouse\"\n",
    "MATCH (a:Author {name: 'Zetter Townhouse'})-[w:WROTE]->(r:Recipe)\n",
    "DELETE w\n"
   ]
  },
  {
   "cell_type": "markdown",
   "id": "3a97e224-8c89-4c1e-b3cf-7371764594cd",
   "metadata": {},
   "source": [
    "#### Delete at least one node based on some criteria"
   ]
  },
  {
   "cell_type": "code",
   "execution_count": 34,
   "id": "7fd110d8-aa61-4fa0-b3b7-9cb00b023a70",
   "metadata": {},
   "outputs": [
    {
     "name": "stdout",
     "output_type": "stream",
     "text": [
      "0 rows\n",
      "ready to start consuming query after 37 ms, results consumed after another 0 ms\n",
      "Deleted 1 nodes\n"
     ]
    }
   ],
   "source": [
    "%%neo\n",
    "// Delete \"Zetter Townhouse\" author node (and its relationships for safety)\n",
    "MATCH (a:Author {name: 'Zetter Townhouse'})\n",
    "DETACH DELETE a\n"
   ]
  },
  {
   "cell_type": "markdown",
   "id": "dbc70e03-1351-45be-8b28-878103bff73e",
   "metadata": {},
   "source": [
    "#### Create a unique constraint on a node propert"
   ]
  },
  {
   "cell_type": "code",
   "execution_count": 39,
   "id": "5d09659f-91c1-4d88-909b-f411f3b1e810",
   "metadata": {},
   "outputs": [
    {
     "name": "stdout",
     "output_type": "stream",
     "text": [
      "+---------------------------------------------------------------------------+\n",
      "| name       | nodes                                                        |\n",
      "+---------------------------------------------------------------------------+\n",
      "| \"Jane Doe\" | [(:Author {name: \"Jane Doe\"}), (:Author {name: \"Jane Doe\"})] |\n",
      "+---------------------------------------------------------------------------+\n",
      "\n",
      "1 row\n",
      "ready to start consuming query after 52 ms, results consumed after another 15 ms\n"
     ]
    }
   ],
   "source": [
    "%%neo\n",
    "// Find Author nodes with the same name\n",
    "MATCH (a:Author)\n",
    "WITH a.name AS name, COLLECT(a) AS nodes\n",
    "WHERE SIZE(nodes) > 1\n",
    "RETURN name, nodes\n"
   ]
  },
  {
   "cell_type": "code",
   "execution_count": 40,
   "id": "790b86fa-24bd-403c-a910-e0b3ce664f44",
   "metadata": {},
   "outputs": [
    {
     "name": "stdout",
     "output_type": "stream",
     "text": [
      "0 rows\n",
      "ready to start consuming query after 103 ms, results consumed after another 0 ms\n",
      "Deleted 1 nodes\n"
     ]
    }
   ],
   "source": [
    "%%neo\n",
    "// Merge duplicate Author nodes (keep one and delete others)\n",
    "MATCH (a:Author)\n",
    "WITH a.name AS name, COLLECT(a) AS nodes\n",
    "WHERE SIZE(nodes) > 1\n",
    "FOREACH (n IN TAIL(nodes) | \n",
    "  DETACH DELETE n)\n"
   ]
  },
  {
   "cell_type": "code",
   "execution_count": 41,
   "id": "bb126370-2293-4c7d-a102-7291fb50fe5a",
   "metadata": {},
   "outputs": [
    {
     "name": "stdout",
     "output_type": "stream",
     "text": [
      "0 rows\n",
      "ready to start consuming query after 55 ms, results consumed after another 0 ms\n",
      "Added 1 constraints\n"
     ]
    }
   ],
   "source": [
    "%%neo\n",
    "// Create a unique constraint on the name property of Author nodes\n",
    "CREATE CONSTRAINT AuthorNameUnique FOR (a:Author) REQUIRE a.name IS UNIQUE\n"
   ]
  },
  {
   "cell_type": "markdown",
   "id": "90836a72-6b8f-4846-905d-0ce13d20ddce",
   "metadata": {},
   "source": [
    "#### Create a unique constraint on a relationship property"
   ]
  },
  {
   "cell_type": "code",
   "execution_count": 43,
   "id": "76041ddc-9663-42f1-b5fe-1a6e94cad82f",
   "metadata": {},
   "outputs": [
    {
     "name": "stdout",
     "output_type": "stream",
     "text": [
      "0 rows\n",
      "ready to start consuming query after 67 ms, results consumed after another 0 ms\n",
      "Added 1 constraints\n"
     ]
    }
   ],
   "source": [
    "%%neo\n",
    "// Create a unique constraint on the date property of WROTE relationships\n",
    "CREATE CONSTRAINT WroteDateUnique FOR ()-[w:WROTE]-() REQUIRE w.date IS UNIQUE\n",
    "\n"
   ]
  }
 ],
 "metadata": {
  "environment": {
   "kernel": "python3",
   "name": "common-cpu.m110",
   "type": "gcloud",
   "uri": "gcr.io/deeplearning-platform-release/base-cpu:m110"
  },
  "kernelspec": {
   "display_name": "Python 3",
   "language": "python",
   "name": "python3"
  },
  "language_info": {
   "codemirror_mode": {
    "name": "ipython",
    "version": 3
   },
   "file_extension": ".py",
   "mimetype": "text/x-python",
   "name": "python",
   "nbconvert_exporter": "python",
   "pygments_lexer": "ipython3",
   "version": "3.10.12"
  }
 },
 "nbformat": 4,
 "nbformat_minor": 5
}
