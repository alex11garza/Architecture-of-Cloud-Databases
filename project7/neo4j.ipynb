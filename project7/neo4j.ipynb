{
 "cells": [
  {
   "cell_type": "code",
   "execution_count": 1,
   "id": "c1a58ed7-fac1-4896-bf6d-f0ffd5eb72f0",
   "metadata": {},
   "outputs": [
    {
     "name": "stdout",
     "output_type": "stream",
     "text": [
      "env: CYPHER=/usr/bin/cypher-shell\n",
      "env: HOST=neo4j+s://cdffba13.databases.neo4j.io\n",
      "env: USER=neo4j\n",
      "env: PW=OrWZYC4UHbyjkDYijXF3cGSMjJXOIKq-yzs4CTlLgZw\n"
     ]
    }
   ],
   "source": [
    "%env CYPHER=/usr/bin/cypher-shell\n",
    "%env HOST=neo4j+s://cdffba13.databases.neo4j.io\n",
    "%env USER=neo4j\n",
    "%env PW=OrWZYC4UHbyjkDYijXF3cGSMjJXOIKq-yzs4CTlLgZw"
   ]
  },
  {
   "cell_type": "code",
   "execution_count": 2,
   "id": "d4a91943-1d5d-40b1-ac5e-f624ae37ca89",
   "metadata": {},
   "outputs": [],
   "source": [
    "CONNECT=\"$CYPHER -a $HOST -u $USER -p $PW\""
   ]
  },
  {
   "cell_type": "code",
   "execution_count": 3,
   "id": "1cb78ed0-2c80-401b-a362-ff8112bf591f",
   "metadata": {},
   "outputs": [],
   "source": [
    "from IPython.core.magic import register_cell_magic\n",
    "import shlex\n",
    "\n",
    "@register_cell_magic('neo')\n",
    "def neo(line, cell):\n",
    "    !{CONNECT} {shlex.quote(cell)}"
   ]
  },
  {
   "cell_type": "code",
   "execution_count": 4,
   "id": "96887bda-574a-47bb-b2aa-82a873bc4ecc",
   "metadata": {},
   "outputs": [
    {
     "name": "stdout",
     "output_type": "stream",
     "text": [
      "\u001b[31mDriver execution failed\u001b[m\n"
     ]
    }
   ],
   "source": [
    "%%neo\n",
    "show users"
   ]
  },
  {
   "cell_type": "code",
   "execution_count": 5,
   "id": "6cfe9b35-a837-422b-839b-9dc58f0e99b1",
   "metadata": {},
   "outputs": [
    {
     "name": "stdout",
     "output_type": "stream",
     "text": [
      "\u001b[31mDriver execution failed\u001b[m\n"
     ]
    }
   ],
   "source": [
    "%%neo\n",
    "MATCH (n) RETURN n LIMIT 5"
   ]
  },
  {
   "cell_type": "code",
   "execution_count": 6,
   "id": "9bd40b5c-37d7-4396-9b1f-e326eaf1c3ea",
   "metadata": {},
   "outputs": [
    {
     "name": "stdout",
     "output_type": "stream",
     "text": [
      "\u001b[31mDriver execution failed\u001b[m\n"
     ]
    }
   ],
   "source": [
    "%%neo \n",
    "MATCH (p:Person)-[:ACTED_IN]->(m:Movie) \n",
    "WHERE m.title = 'Top Gun' \n",
    "RETURN p"
   ]
  },
  {
   "cell_type": "markdown",
   "id": "c7d1924e-c819-4d9d-ac4e-cb5601154d6b",
   "metadata": {},
   "source": [
    "##### Prompt 1: Which persons reviewed a movie? Return the persons' names and the movies which they reviewed. Order by person's name. \n",
    "\n",
    "##### Hint: the relationship type is called `REVIEWED`"
   ]
  },
  {
   "cell_type": "code",
   "execution_count": 7,
   "id": "ceef059e-9ccb-427f-9e92-b902f4ae6e48",
   "metadata": {},
   "outputs": [
    {
     "name": "stdout",
     "output_type": "stream",
     "text": [
      "\u001b[31mDriver execution failed\u001b[m\n"
     ]
    }
   ],
   "source": [
    "%%neo\n",
    "MATCH (p:Person)-[r:REVIEWED]->(m:Movie)\n",
    "RETURN DISTINCT p.name, m.title\n",
    "ORDER BY p.name"
   ]
  },
  {
   "cell_type": "code",
   "execution_count": 8,
   "id": "1b48c062-a9c7-43fe-b6ae-54d822fea798",
   "metadata": {},
   "outputs": [
    {
     "name": "stdout",
     "output_type": "stream",
     "text": [
      "\u001b[31mDriver execution failed\u001b[m\n"
     ]
    }
   ],
   "source": [
    "%%neo\n",
    "MATCH (p:Person)-[r:REVIEWED]->(m:Movie) \n",
    "RETURN p.name, m.title\n",
    "ORDER BY p.name"
   ]
  },
  {
   "cell_type": "markdown",
   "id": "cb437539-ed03-459c-9bac-0cfbdeeda515",
   "metadata": {},
   "source": [
    "##### Prompt 2: Which persons reviewed a movie and also follow the same movie's actors? Return the person's name and movie title.\n",
    "\n",
    "##### Hint: the relationship type is called `FOLLOWS`"
   ]
  },
  {
   "cell_type": "code",
   "execution_count": 9,
   "id": "221e1d2a-2793-430e-ab7f-528414101100",
   "metadata": {},
   "outputs": [
    {
     "name": "stdout",
     "output_type": "stream",
     "text": [
      "\u001b[31mDriver execution failed\u001b[m\n"
     ]
    }
   ],
   "source": [
    "%%neo\n",
    "MATCH (p:Person)-[r:REVIEWED]->(m:Movie) WITH collect(DISTINCT p.name) as reviewed\n",
    "MATCH (p2:Person)-[r2:FOLLOWS]->(m2:Movie) WHERE p2.name IN reviewed\n",
    "RETURN p2.name, m2.title"
   ]
  },
  {
   "cell_type": "code",
   "execution_count": 10,
   "id": "df6d81ca-899e-49aa-80da-04164556f51f",
   "metadata": {},
   "outputs": [
    {
     "name": "stdout",
     "output_type": "stream",
     "text": [
      "\u001b[31mDriver execution failed\u001b[m\n"
     ]
    }
   ],
   "source": [
    "%%neo\n",
    "MATCH (r:Person)-[:REVIEWED]->(m:Movie), \n",
    "(a:Person)-[:ACTED_IN]->(m:Movie), \n",
    "(r:Person)-[:FOLLOWS]->(a:Person)\n",
    "RETURN r.name, a.name, m.title;"
   ]
  },
  {
   "cell_type": "markdown",
   "id": "d76cfa97-5885-454a-8b4a-e83137e14d0a",
   "metadata": {},
   "source": [
    "##### Prompt 3: Create a `FOLLOWS` relationship from Jessica Thompson to Bonnie Hunt"
   ]
  },
  {
   "cell_type": "code",
   "execution_count": 11,
   "id": "eb435134-a5b0-4233-bba8-4043487c2766",
   "metadata": {},
   "outputs": [
    {
     "name": "stdout",
     "output_type": "stream",
     "text": [
      "\u001b[31mDriver execution failed\u001b[m\n"
     ]
    }
   ],
   "source": [
    "%%neo\n",
    "MATCH (r:Person), (a:Person)\n",
    "WHERE r.name = \"Jessica Thompson\" AND a.name = \"Bonnie Hunt\"\n",
    "CREATE (r)-[f:FOLLOWS]->(a)\n",
    "RETURN r, f, a;"
   ]
  },
  {
   "cell_type": "markdown",
   "id": "367139d4-40c1-4bf6-b8e2-8f6ce04caffd",
   "metadata": {},
   "source": [
    "##### Prompt 4: Re-test the previous query you wrote for Prompt 2"
   ]
  },
  {
   "cell_type": "code",
   "execution_count": 12,
   "id": "1b455f03-10eb-42a0-a727-319fb0f2ff28",
   "metadata": {},
   "outputs": [
    {
     "name": "stdout",
     "output_type": "stream",
     "text": [
      "\u001b[31mDriver execution failed\u001b[m\n"
     ]
    }
   ],
   "source": [
    "%%neo\n",
    "MATCH (r:Person)-[:REVIEWED]->(m:Movie), \n",
    "(a:Person)-[:ACTED_IN]->(m:Movie), \n",
    "(r:Person)-[:FOLLOWS]->(a:Person)\n",
    "RETURN r.name, a.name, m.title;"
   ]
  },
  {
   "cell_type": "code",
   "execution_count": null,
   "id": "47c6624a-564f-4804-9f2b-6fdf39ba3858",
   "metadata": {},
   "outputs": [],
   "source": []
  }
 ],
 "metadata": {
  "environment": {
   "kernel": "python3",
   "name": "common-cpu.m110",
   "type": "gcloud",
   "uri": "gcr.io/deeplearning-platform-release/base-cpu:m110"
  },
  "kernelspec": {
   "display_name": "Python 3",
   "language": "python",
   "name": "python3"
  },
  "language_info": {
   "codemirror_mode": {
    "name": "ipython",
    "version": 3
   },
   "file_extension": ".py",
   "mimetype": "text/x-python",
   "name": "python",
   "nbconvert_exporter": "python",
   "pygments_lexer": "ipython3",
   "version": "3.10.12"
  }
 },
 "nbformat": 4,
 "nbformat_minor": 5
}
